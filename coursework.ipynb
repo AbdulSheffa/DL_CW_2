{
 "cells": [
  {
   "cell_type": "markdown",
   "metadata": {},
   "source": [
    "### Imports"
   ],
   "id": "d6f6c751c626a782"
  },
  {
   "cell_type": "code",
   "execution_count": 1,
   "id": "50b6d076706c93cd",
   "metadata": {
    "collapsed": false,
    "ExecuteTime": {
     "end_time": "2023-12-01T22:38:12.675045903Z",
     "start_time": "2023-12-01T22:38:07.131431619Z"
    }
   },
   "outputs": [
    {
     "name": "stderr",
     "output_type": "stream",
     "text": [
      "2023-12-02 04:08:10.874096: I tensorflow/core/util/port.cc:113] oneDNN custom operations are on. You may see slightly different numerical results due to floating-point round-off errors from different computation orders. To turn them off, set the environment variable `TF_ENABLE_ONEDNN_OPTS=0`.\n",
      "2023-12-02 04:08:10.997314: E external/local_xla/xla/stream_executor/cuda/cuda_dnn.cc:9261] Unable to register cuDNN factory: Attempting to register factory for plugin cuDNN when one has already been registered\n",
      "2023-12-02 04:08:10.997369: E external/local_xla/xla/stream_executor/cuda/cuda_fft.cc:607] Unable to register cuFFT factory: Attempting to register factory for plugin cuFFT when one has already been registered\n",
      "2023-12-02 04:08:11.012300: E external/local_xla/xla/stream_executor/cuda/cuda_blas.cc:1515] Unable to register cuBLAS factory: Attempting to register factory for plugin cuBLAS when one has already been registered\n",
      "2023-12-02 04:08:11.047353: I tensorflow/core/platform/cpu_feature_guard.cc:182] This TensorFlow binary is optimized to use available CPU instructions in performance-critical operations.\n",
      "To enable the following instructions: AVX2 AVX512F AVX512_VNNI FMA, in other operations, rebuild TensorFlow with the appropriate compiler flags.\n",
      "2023-12-02 04:08:11.838620: W tensorflow/compiler/tf2tensorrt/utils/py_utils.cc:38] TF-TRT Warning: Could not find TensorRT\n"
     ]
    }
   ],
   "source": [
    "import matplotlib.pyplot as plt\n",
    "import json\n",
    "import pandas as pd\n",
    "import seaborn as sns\n",
    "import re\n",
    "from transformers import BertTokenizer, BertForSequenceClassification,AdamW\n",
    "from sklearn.model_selection import train_test_split\n",
    "from sklearn.preprocessing import LabelEncoder\n",
    "from torch.utils.data import DataLoader, TensorDataset\n",
    "from sklearn.metrics import confusion_matrix\n",
    "from tensorflow.keras.models import Sequential\n",
    "from tensorflow.keras.layers import Embedding, LSTM, Dense\n",
    "from tensorflow.keras.preprocessing.text import Tokenizer\n",
    "from tensorflow.keras.preprocessing.sequence import pad_sequences\n",
    "from sklearn.model_selection import train_test_split\n",
    "from sklearn.preprocessing import LabelEncoder\n",
    "from sklearn.metrics import confusion_matrix\n",
    "from sklearn.metrics import precision_recall_fscore_support\n",
    "from sklearn.decomposition import PCA\n",
    "import numpy as np\n",
    "from sklearn.preprocessing import MinMaxScaler\n",
    "from sklearn.metrics import accuracy_score\n",
    "from sklearn.preprocessing import LabelEncoder\n",
    "from sklearn.metrics import confusion_matrix, classification_report"
   ]
  },
  {
   "cell_type": "markdown",
   "metadata": {},
   "source": [
    "### Load data"
   ],
   "id": "cbd7368cf0d05d61"
  },
  {
   "cell_type": "code",
   "execution_count": 2,
   "metadata": {
    "ExecuteTime": {
     "end_time": "2023-12-01T09:10:57.499194558Z",
     "start_time": "2023-12-01T09:08:28.711294876Z"
    }
   },
   "outputs": [
    {
     "name": "stdout",
     "output_type": "stream",
     "text": [
      "Processing chunk 1\n",
      "Processing chunk 2\n",
      "Processing chunk 3\n",
      "Processing chunk 4\n",
      "Processing chunk 5\n",
      "Processing chunk 6\n",
      "Processing chunk 7\n",
      "Processing chunk 8\n",
      "Processing chunk 9\n",
      "Processing chunk 10\n"
     ]
    }
   ],
   "source": [
    "chunk_size = 700000\n",
    "json_file_path = \"yelp_academic_dataset_review.json\"\n",
    "\n",
    "# Read the JSON file in chunks\n",
    "chunks = pd.read_json(json_file_path, lines=True, chunksize=chunk_size)\n",
    "\n",
    "for i, df_chunk in enumerate(chunks):\n",
    "    print(f\"Processing chunk {i + 1}\")\n",
    "\n",
    "    chunk_csv_path = f\"chunk_{i + 1}.csv\"\n",
    "    df_chunk.to_csv(chunk_csv_path, index=False)\n",
    "    df_chunk_from_csv = pd.read_csv(chunk_csv_path)"
   ],
   "id": "91ba0966af9aa095"
  },
  {
   "cell_type": "code",
   "execution_count": 3,
   "id": "2fff3cc6a84e894f",
   "metadata": {
    "collapsed": false,
    "ExecuteTime": {
     "end_time": "2023-12-01T09:11:46.409676497Z",
     "start_time": "2023-12-01T09:11:31.170230223Z"
    }
   },
   "outputs": [
    {
     "name": "stdout",
     "output_type": "stream",
     "text": [
      "Processing chunk 1\n"
     ]
    }
   ],
   "source": [
    "# Using the first 100000\n",
    "chunk_size = 700000\n",
    "file= \"yelp_academic_dataset_review.json\"\n",
    "\n",
    "# Reading the JSON file in chunks\n",
    "chunks1 = pd.read_json(file, lines=True, chunksize=chunk_size)\n",
    "\n",
    "# Iterate over chunks and process each chunk\n",
    "for i, x in enumerate(chunks1):\n",
    "    print(f\"Processing chunk {i + 1}\")\n",
    "\n",
    "    # Save the first chunk to a CSV file\n",
    "    if i == 0:\n",
    "        first_chunk_csv_path = \"first_chunk.csv\"\n",
    "        x.to_csv(first_chunk_csv_path, index=False)\n",
    "\n",
    "    df= pd.read_csv(\"first_chunk.csv\")\n",
    "    break"
   ]
  },
  {
   "cell_type": "code",
   "execution_count": 4,
   "outputs": [
    {
     "data": {
      "text/plain": "                     review_id                 user_id  \\\n0       KU_O5udG6zpxOg-VcAEodg  mh_-eMZ6K5RLWhZyISBhwA   \n1       BiTunyQ73aT9WBnpR9DZGw  OyoGAe7OKpv6SyGZT5g77Q   \n2       saUsX_uimxRlCVr67Z4Jig  8g_iMtfSiwikVnbP2etR0A   \n3       AqPFMleE6RsU23_auESxiA  _7bHUi9Uuf5__HHc_Q8guQ   \n4       Sx8TMOWLNuJBWer-0pcmoA  bcjbaE6dDog4jkNY91ncLQ   \n...                        ...                     ...   \n699995  8nPFAHUg2Maq20h9PxHCSg  fM-DKqmd9Lh08bApyY-dsg   \n699996  siyHQqTd-35kd9fEQkMskg  YYfgEK77PFL6-ErHHElHww   \n699997  iuBOjA0J7B0_yT_3FEgUJQ  7h7SkRAIJMtynNSGntyxbw   \n699998  2WPcCACe-NecwIKDIRRPrA  qMdjazC9quXk6AElD3i9yA   \n699999  Q_BdRCOkQRcVyF7JOaT5Lg  89aoy6WORObOOdU5yPQxoQ   \n\n                   business_id  stars  useful  funny  cool  \\\n0       XQfwVwDr-v0ZS3_CbbE5Xw      3       0      0     0   \n1       7ATYjTIgM3jUlt4UM3IypQ      5       1      0     1   \n2       YjUWPpI6HXG530lwP-fb2A      3       0      0     0   \n3       kxX2SOes4o-D3ZQBkiMRfA      5       1      0     1   \n4       e4Vwtrqf-wpJfwesgvdgxQ      4       1      0     1   \n...                        ...    ...     ...    ...   ...   \n699995  IHd8_cnLZe5oILE_oKy-5g      1       0      0     0   \n699996  DvkSkF83xDONjkNIoEPRnQ      5       4      1     0   \n699997  Y3ZCO17N1_T_Ms1JmswwzA      4       0      0     0   \n699998  f4vbnGoGo3eWorVekctVGQ      5       0      0     0   \n699999  L3QX19EWlkS-clS68Boydg      4       0      0     0   \n\n                                                     text                 date  \n0       If you decide to eat here, just be aware it is...  2018-07-07 22:09:11  \n1       I've taken a lot of spin classes over the year...  2012-01-03 15:28:18  \n2       Family diner. Had the buffet. Eclectic assortm...  2014-02-05 20:30:30  \n3       Wow!  Yummy, different,  delicious.   Our favo...  2015-01-04 00:01:03  \n4       Cute interior and owner (?) gave us tour of up...  2017-01-14 20:54:15  \n...                                                   ...                  ...  \n699995  Do not go here! The only redeeming quality of ...  2015-05-23 23:16:41  \n699996  This place is amazing. I'm very surprised seei...  2017-07-12 19:57:37  \n699997  Horchata was good, and the tortillas were grea...  2016-11-15 23:50:18  \n699998  Best omelette and grits both my girlfriend and...  2015-12-29 17:38:16  \n699999  Stopped in to grab an order of beignets becaus...  2013-06-06 21:03:14  \n\n[700000 rows x 9 columns]",
      "text/html": "<div>\n<style scoped>\n    .dataframe tbody tr th:only-of-type {\n        vertical-align: middle;\n    }\n\n    .dataframe tbody tr th {\n        vertical-align: top;\n    }\n\n    .dataframe thead th {\n        text-align: right;\n    }\n</style>\n<table border=\"1\" class=\"dataframe\">\n  <thead>\n    <tr style=\"text-align: right;\">\n      <th></th>\n      <th>review_id</th>\n      <th>user_id</th>\n      <th>business_id</th>\n      <th>stars</th>\n      <th>useful</th>\n      <th>funny</th>\n      <th>cool</th>\n      <th>text</th>\n      <th>date</th>\n    </tr>\n  </thead>\n  <tbody>\n    <tr>\n      <th>0</th>\n      <td>KU_O5udG6zpxOg-VcAEodg</td>\n      <td>mh_-eMZ6K5RLWhZyISBhwA</td>\n      <td>XQfwVwDr-v0ZS3_CbbE5Xw</td>\n      <td>3</td>\n      <td>0</td>\n      <td>0</td>\n      <td>0</td>\n      <td>If you decide to eat here, just be aware it is...</td>\n      <td>2018-07-07 22:09:11</td>\n    </tr>\n    <tr>\n      <th>1</th>\n      <td>BiTunyQ73aT9WBnpR9DZGw</td>\n      <td>OyoGAe7OKpv6SyGZT5g77Q</td>\n      <td>7ATYjTIgM3jUlt4UM3IypQ</td>\n      <td>5</td>\n      <td>1</td>\n      <td>0</td>\n      <td>1</td>\n      <td>I've taken a lot of spin classes over the year...</td>\n      <td>2012-01-03 15:28:18</td>\n    </tr>\n    <tr>\n      <th>2</th>\n      <td>saUsX_uimxRlCVr67Z4Jig</td>\n      <td>8g_iMtfSiwikVnbP2etR0A</td>\n      <td>YjUWPpI6HXG530lwP-fb2A</td>\n      <td>3</td>\n      <td>0</td>\n      <td>0</td>\n      <td>0</td>\n      <td>Family diner. Had the buffet. Eclectic assortm...</td>\n      <td>2014-02-05 20:30:30</td>\n    </tr>\n    <tr>\n      <th>3</th>\n      <td>AqPFMleE6RsU23_auESxiA</td>\n      <td>_7bHUi9Uuf5__HHc_Q8guQ</td>\n      <td>kxX2SOes4o-D3ZQBkiMRfA</td>\n      <td>5</td>\n      <td>1</td>\n      <td>0</td>\n      <td>1</td>\n      <td>Wow!  Yummy, different,  delicious.   Our favo...</td>\n      <td>2015-01-04 00:01:03</td>\n    </tr>\n    <tr>\n      <th>4</th>\n      <td>Sx8TMOWLNuJBWer-0pcmoA</td>\n      <td>bcjbaE6dDog4jkNY91ncLQ</td>\n      <td>e4Vwtrqf-wpJfwesgvdgxQ</td>\n      <td>4</td>\n      <td>1</td>\n      <td>0</td>\n      <td>1</td>\n      <td>Cute interior and owner (?) gave us tour of up...</td>\n      <td>2017-01-14 20:54:15</td>\n    </tr>\n    <tr>\n      <th>...</th>\n      <td>...</td>\n      <td>...</td>\n      <td>...</td>\n      <td>...</td>\n      <td>...</td>\n      <td>...</td>\n      <td>...</td>\n      <td>...</td>\n      <td>...</td>\n    </tr>\n    <tr>\n      <th>699995</th>\n      <td>8nPFAHUg2Maq20h9PxHCSg</td>\n      <td>fM-DKqmd9Lh08bApyY-dsg</td>\n      <td>IHd8_cnLZe5oILE_oKy-5g</td>\n      <td>1</td>\n      <td>0</td>\n      <td>0</td>\n      <td>0</td>\n      <td>Do not go here! The only redeeming quality of ...</td>\n      <td>2015-05-23 23:16:41</td>\n    </tr>\n    <tr>\n      <th>699996</th>\n      <td>siyHQqTd-35kd9fEQkMskg</td>\n      <td>YYfgEK77PFL6-ErHHElHww</td>\n      <td>DvkSkF83xDONjkNIoEPRnQ</td>\n      <td>5</td>\n      <td>4</td>\n      <td>1</td>\n      <td>0</td>\n      <td>This place is amazing. I'm very surprised seei...</td>\n      <td>2017-07-12 19:57:37</td>\n    </tr>\n    <tr>\n      <th>699997</th>\n      <td>iuBOjA0J7B0_yT_3FEgUJQ</td>\n      <td>7h7SkRAIJMtynNSGntyxbw</td>\n      <td>Y3ZCO17N1_T_Ms1JmswwzA</td>\n      <td>4</td>\n      <td>0</td>\n      <td>0</td>\n      <td>0</td>\n      <td>Horchata was good, and the tortillas were grea...</td>\n      <td>2016-11-15 23:50:18</td>\n    </tr>\n    <tr>\n      <th>699998</th>\n      <td>2WPcCACe-NecwIKDIRRPrA</td>\n      <td>qMdjazC9quXk6AElD3i9yA</td>\n      <td>f4vbnGoGo3eWorVekctVGQ</td>\n      <td>5</td>\n      <td>0</td>\n      <td>0</td>\n      <td>0</td>\n      <td>Best omelette and grits both my girlfriend and...</td>\n      <td>2015-12-29 17:38:16</td>\n    </tr>\n    <tr>\n      <th>699999</th>\n      <td>Q_BdRCOkQRcVyF7JOaT5Lg</td>\n      <td>89aoy6WORObOOdU5yPQxoQ</td>\n      <td>L3QX19EWlkS-clS68Boydg</td>\n      <td>4</td>\n      <td>0</td>\n      <td>0</td>\n      <td>0</td>\n      <td>Stopped in to grab an order of beignets becaus...</td>\n      <td>2013-06-06 21:03:14</td>\n    </tr>\n  </tbody>\n</table>\n<p>700000 rows × 9 columns</p>\n</div>"
     },
     "execution_count": 4,
     "metadata": {},
     "output_type": "execute_result"
    }
   ],
   "source": [
    "df"
   ],
   "metadata": {
    "collapsed": false,
    "ExecuteTime": {
     "end_time": "2023-12-01T09:11:47.423067899Z",
     "start_time": "2023-12-01T09:11:47.402497737Z"
    }
   },
   "id": "d36238e10f1cf45e"
  },
  {
   "cell_type": "markdown",
   "source": [
    "### Visualization"
   ],
   "metadata": {
    "collapsed": false
   },
   "id": "fb5a9e38a21f4e4"
  },
  {
   "cell_type": "code",
   "execution_count": 5,
   "outputs": [],
   "source": [
    "# Data Preprocessing\n",
    "texts = df['text']\n",
    "labels = df['stars'].apply(lambda x: 1 if x > 3 else 0)  "
   ],
   "metadata": {
    "collapsed": false,
    "ExecuteTime": {
     "end_time": "2023-12-01T09:12:04.329405231Z",
     "start_time": "2023-12-01T09:12:04.189822722Z"
    }
   },
   "id": "f46808944f15d9df"
  },
  {
   "cell_type": "code",
   "execution_count": 6,
   "outputs": [
    {
     "data": {
      "text/plain": "                     review_id                 user_id  \\\n0       KU_O5udG6zpxOg-VcAEodg  mh_-eMZ6K5RLWhZyISBhwA   \n1       BiTunyQ73aT9WBnpR9DZGw  OyoGAe7OKpv6SyGZT5g77Q   \n2       saUsX_uimxRlCVr67Z4Jig  8g_iMtfSiwikVnbP2etR0A   \n3       AqPFMleE6RsU23_auESxiA  _7bHUi9Uuf5__HHc_Q8guQ   \n4       Sx8TMOWLNuJBWer-0pcmoA  bcjbaE6dDog4jkNY91ncLQ   \n...                        ...                     ...   \n699995  8nPFAHUg2Maq20h9PxHCSg  fM-DKqmd9Lh08bApyY-dsg   \n699996  siyHQqTd-35kd9fEQkMskg  YYfgEK77PFL6-ErHHElHww   \n699997  iuBOjA0J7B0_yT_3FEgUJQ  7h7SkRAIJMtynNSGntyxbw   \n699998  2WPcCACe-NecwIKDIRRPrA  qMdjazC9quXk6AElD3i9yA   \n699999  Q_BdRCOkQRcVyF7JOaT5Lg  89aoy6WORObOOdU5yPQxoQ   \n\n                   business_id  stars  useful  funny  cool  \\\n0       XQfwVwDr-v0ZS3_CbbE5Xw      3       0      0     0   \n1       7ATYjTIgM3jUlt4UM3IypQ      5       1      0     1   \n2       YjUWPpI6HXG530lwP-fb2A      3       0      0     0   \n3       kxX2SOes4o-D3ZQBkiMRfA      5       1      0     1   \n4       e4Vwtrqf-wpJfwesgvdgxQ      4       1      0     1   \n...                        ...    ...     ...    ...   ...   \n699995  IHd8_cnLZe5oILE_oKy-5g      1       0      0     0   \n699996  DvkSkF83xDONjkNIoEPRnQ      5       4      1     0   \n699997  Y3ZCO17N1_T_Ms1JmswwzA      4       0      0     0   \n699998  f4vbnGoGo3eWorVekctVGQ      5       0      0     0   \n699999  L3QX19EWlkS-clS68Boydg      4       0      0     0   \n\n                                                     text                 date  \n0       If you decide to eat here, just be aware it is...  2018-07-07 22:09:11  \n1       I've taken a lot of spin classes over the year...  2012-01-03 15:28:18  \n2       Family diner. Had the buffet. Eclectic assortm...  2014-02-05 20:30:30  \n3       Wow!  Yummy, different,  delicious.   Our favo...  2015-01-04 00:01:03  \n4       Cute interior and owner (?) gave us tour of up...  2017-01-14 20:54:15  \n...                                                   ...                  ...  \n699995  Do not go here! The only redeeming quality of ...  2015-05-23 23:16:41  \n699996  This place is amazing. I'm very surprised seei...  2017-07-12 19:57:37  \n699997  Horchata was good, and the tortillas were grea...  2016-11-15 23:50:18  \n699998  Best omelette and grits both my girlfriend and...  2015-12-29 17:38:16  \n699999  Stopped in to grab an order of beignets becaus...  2013-06-06 21:03:14  \n\n[700000 rows x 9 columns]",
      "text/html": "<div>\n<style scoped>\n    .dataframe tbody tr th:only-of-type {\n        vertical-align: middle;\n    }\n\n    .dataframe tbody tr th {\n        vertical-align: top;\n    }\n\n    .dataframe thead th {\n        text-align: right;\n    }\n</style>\n<table border=\"1\" class=\"dataframe\">\n  <thead>\n    <tr style=\"text-align: right;\">\n      <th></th>\n      <th>review_id</th>\n      <th>user_id</th>\n      <th>business_id</th>\n      <th>stars</th>\n      <th>useful</th>\n      <th>funny</th>\n      <th>cool</th>\n      <th>text</th>\n      <th>date</th>\n    </tr>\n  </thead>\n  <tbody>\n    <tr>\n      <th>0</th>\n      <td>KU_O5udG6zpxOg-VcAEodg</td>\n      <td>mh_-eMZ6K5RLWhZyISBhwA</td>\n      <td>XQfwVwDr-v0ZS3_CbbE5Xw</td>\n      <td>3</td>\n      <td>0</td>\n      <td>0</td>\n      <td>0</td>\n      <td>If you decide to eat here, just be aware it is...</td>\n      <td>2018-07-07 22:09:11</td>\n    </tr>\n    <tr>\n      <th>1</th>\n      <td>BiTunyQ73aT9WBnpR9DZGw</td>\n      <td>OyoGAe7OKpv6SyGZT5g77Q</td>\n      <td>7ATYjTIgM3jUlt4UM3IypQ</td>\n      <td>5</td>\n      <td>1</td>\n      <td>0</td>\n      <td>1</td>\n      <td>I've taken a lot of spin classes over the year...</td>\n      <td>2012-01-03 15:28:18</td>\n    </tr>\n    <tr>\n      <th>2</th>\n      <td>saUsX_uimxRlCVr67Z4Jig</td>\n      <td>8g_iMtfSiwikVnbP2etR0A</td>\n      <td>YjUWPpI6HXG530lwP-fb2A</td>\n      <td>3</td>\n      <td>0</td>\n      <td>0</td>\n      <td>0</td>\n      <td>Family diner. Had the buffet. Eclectic assortm...</td>\n      <td>2014-02-05 20:30:30</td>\n    </tr>\n    <tr>\n      <th>3</th>\n      <td>AqPFMleE6RsU23_auESxiA</td>\n      <td>_7bHUi9Uuf5__HHc_Q8guQ</td>\n      <td>kxX2SOes4o-D3ZQBkiMRfA</td>\n      <td>5</td>\n      <td>1</td>\n      <td>0</td>\n      <td>1</td>\n      <td>Wow!  Yummy, different,  delicious.   Our favo...</td>\n      <td>2015-01-04 00:01:03</td>\n    </tr>\n    <tr>\n      <th>4</th>\n      <td>Sx8TMOWLNuJBWer-0pcmoA</td>\n      <td>bcjbaE6dDog4jkNY91ncLQ</td>\n      <td>e4Vwtrqf-wpJfwesgvdgxQ</td>\n      <td>4</td>\n      <td>1</td>\n      <td>0</td>\n      <td>1</td>\n      <td>Cute interior and owner (?) gave us tour of up...</td>\n      <td>2017-01-14 20:54:15</td>\n    </tr>\n    <tr>\n      <th>...</th>\n      <td>...</td>\n      <td>...</td>\n      <td>...</td>\n      <td>...</td>\n      <td>...</td>\n      <td>...</td>\n      <td>...</td>\n      <td>...</td>\n      <td>...</td>\n    </tr>\n    <tr>\n      <th>699995</th>\n      <td>8nPFAHUg2Maq20h9PxHCSg</td>\n      <td>fM-DKqmd9Lh08bApyY-dsg</td>\n      <td>IHd8_cnLZe5oILE_oKy-5g</td>\n      <td>1</td>\n      <td>0</td>\n      <td>0</td>\n      <td>0</td>\n      <td>Do not go here! The only redeeming quality of ...</td>\n      <td>2015-05-23 23:16:41</td>\n    </tr>\n    <tr>\n      <th>699996</th>\n      <td>siyHQqTd-35kd9fEQkMskg</td>\n      <td>YYfgEK77PFL6-ErHHElHww</td>\n      <td>DvkSkF83xDONjkNIoEPRnQ</td>\n      <td>5</td>\n      <td>4</td>\n      <td>1</td>\n      <td>0</td>\n      <td>This place is amazing. I'm very surprised seei...</td>\n      <td>2017-07-12 19:57:37</td>\n    </tr>\n    <tr>\n      <th>699997</th>\n      <td>iuBOjA0J7B0_yT_3FEgUJQ</td>\n      <td>7h7SkRAIJMtynNSGntyxbw</td>\n      <td>Y3ZCO17N1_T_Ms1JmswwzA</td>\n      <td>4</td>\n      <td>0</td>\n      <td>0</td>\n      <td>0</td>\n      <td>Horchata was good, and the tortillas were grea...</td>\n      <td>2016-11-15 23:50:18</td>\n    </tr>\n    <tr>\n      <th>699998</th>\n      <td>2WPcCACe-NecwIKDIRRPrA</td>\n      <td>qMdjazC9quXk6AElD3i9yA</td>\n      <td>f4vbnGoGo3eWorVekctVGQ</td>\n      <td>5</td>\n      <td>0</td>\n      <td>0</td>\n      <td>0</td>\n      <td>Best omelette and grits both my girlfriend and...</td>\n      <td>2015-12-29 17:38:16</td>\n    </tr>\n    <tr>\n      <th>699999</th>\n      <td>Q_BdRCOkQRcVyF7JOaT5Lg</td>\n      <td>89aoy6WORObOOdU5yPQxoQ</td>\n      <td>L3QX19EWlkS-clS68Boydg</td>\n      <td>4</td>\n      <td>0</td>\n      <td>0</td>\n      <td>0</td>\n      <td>Stopped in to grab an order of beignets becaus...</td>\n      <td>2013-06-06 21:03:14</td>\n    </tr>\n  </tbody>\n</table>\n<p>700000 rows × 9 columns</p>\n</div>"
     },
     "execution_count": 6,
     "metadata": {},
     "output_type": "execute_result"
    }
   ],
   "source": [
    "df"
   ],
   "metadata": {
    "collapsed": false,
    "ExecuteTime": {
     "end_time": "2023-12-01T09:12:05.886046764Z",
     "start_time": "2023-12-01T09:12:05.859749769Z"
    }
   },
   "id": "e6c1147a38f4e35e"
  },
  {
   "cell_type": "code",
   "execution_count": 7,
   "outputs": [
    {
     "data": {
      "text/plain": "<Figure size 800x600 with 1 Axes>",
      "image/png": "[encoded data removed]"
     },
     "metadata": {},
     "output_type": "display_data"
    }
   ],
   "source": [
    "plt.figure(figsize=(8, 6))\n",
    "plt.scatter(df['stars'].value_counts().sort_index().index, df['stars'].value_counts().sort_index(), color='purple')\n",
    "plt.title('Ratings')\n",
    "plt.xlabel('Stars')\n",
    "plt.ylabel('Count')\n",
    "plt.show()"
   ],
   "metadata": {
    "collapsed": false,
    "ExecuteTime": {
     "end_time": "2023-12-01T09:12:33.582533713Z",
     "start_time": "2023-12-01T09:12:33.335961745Z"
    }
   },
   "id": "15acafa680b135c3"
  },
  {
   "cell_type": "code",
   "execution_count": 8,
   "outputs": [
    {
     "data": {
      "text/plain": "<Figure size 800x600 with 1 Axes>",
      "image/png": "[encoded data removed]"
     },
     "metadata": {},
     "output_type": "display_data"
    }
   ],
   "source": [
    "# Plot the distribution of review lengths\n",
    "plt.figure(figsize=(8, 6))\n",
    "df['review_length'] = df['text'].apply(len)\n",
    "df['review_length'].hist(bins=50, color='red')\n",
    "plt.title('Lengths')\n",
    "plt.xlabel('Reviews')\n",
    "plt.ylabel('Amount')\n",
    "plt.show()"
   ],
   "metadata": {
    "collapsed": false,
    "ExecuteTime": {
     "end_time": "2023-12-01T09:12:37.923099510Z",
     "start_time": "2023-12-01T09:12:37.654811215Z"
    }
   },
   "id": "33ee94c6c65f7b87"
  },
  {
   "cell_type": "code",
   "execution_count": 9,
   "outputs": [
    {
     "data": {
      "text/plain": "<Figure size 1800x600 with 3 Axes>",
      "image/png": "[encoded data removed]"
     },
     "metadata": {},
     "output_type": "display_data"
    }
   ],
   "source": [
    "fig, axes = plt.subplots(nrows=1, ncols=3, figsize=(18, 6))\n",
    "\n",
    "df.boxplot(column='useful', by='stars', ax=axes[0])\n",
    "axes[0].set_title('Votes by Stars')\n",
    "\n",
    "df.boxplot(column='funny', by='stars', ax=axes[1])\n",
    "axes[1].set_title('Votes by Stars')\n",
    "\n",
    "df.boxplot(column='cool', by='stars', ax=axes[2])\n",
    "axes[2].set_title('Votes by Stars')\n",
    "\n",
    "plt.suptitle('Features by Stars')\n",
    "plt.show()"
   ],
   "metadata": {
    "collapsed": false,
    "ExecuteTime": {
     "end_time": "2023-12-01T09:12:43.144021048Z",
     "start_time": "2023-12-01T09:12:41.859319008Z"
    }
   },
   "id": "423ce5ed6ece5ee1"
  },
  {
   "cell_type": "markdown",
   "source": [
    "### Data Pre-processing"
   ],
   "metadata": {
    "collapsed": false
   },
   "id": "2b21f02aac3bbbe6"
  },
  {
   "cell_type": "code",
   "execution_count": 10,
   "outputs": [
    {
     "data": {
      "text/plain": "                     review_id                 user_id  \\\n0       KU_O5udG6zpxOg-VcAEodg  mh_-eMZ6K5RLWhZyISBhwA   \n1       BiTunyQ73aT9WBnpR9DZGw  OyoGAe7OKpv6SyGZT5g77Q   \n2       saUsX_uimxRlCVr67Z4Jig  8g_iMtfSiwikVnbP2etR0A   \n3       AqPFMleE6RsU23_auESxiA  _7bHUi9Uuf5__HHc_Q8guQ   \n4       Sx8TMOWLNuJBWer-0pcmoA  bcjbaE6dDog4jkNY91ncLQ   \n...                        ...                     ...   \n686552  t1GdeuIO_Mcw0E2oEU662w  7y3HeuIWJFoVRe-e9kAi3A   \n689115  Xxr0VMnm0RnXlr5RSMt9HQ  sb3ZzGzoUECo64EZd6DE9g   \n693901  zMgZCG75QDYYCvKKrGGYfw  Q4-WQT0Q3_X4ZtCwDdfH_g   \n695069  bqYN3sifORSPnMIInqYgdg  kLPT0qfgHY5ppF2NbdPvlg   \n696153  0fm6c5UH3YpiKA7T7nQx-w  iEirxmriN2h2NSBkMpMbUA   \n\n                   business_id  stars  useful  funny  cool  \\\n0       XQfwVwDr-v0ZS3_CbbE5Xw      3       0      0     0   \n1       7ATYjTIgM3jUlt4UM3IypQ      5       1      0     1   \n2       YjUWPpI6HXG530lwP-fb2A      3       0      0     0   \n3       kxX2SOes4o-D3ZQBkiMRfA      5       1      0     1   \n4       e4Vwtrqf-wpJfwesgvdgxQ      4       1      0     1   \n...                        ...    ...     ...    ...   ...   \n686552  oDaamK_x-XhTOieP-qVvnw      5       1      0     1   \n689115  cBbvS4klOQd221pKQVMGMA      4       2      0     0   \n693901  2FR-xWttfR8qaODqcuExvw      1       1      1     0   \n695069  1q54Dq02nSFa9NFbu0Tbxw      1       3      0     0   \n696153  dbfm8H0KQRrxT_QSXrQZ-A      5       1      0     0   \n\n                                                     text  \\\n0       If you decide to eat here, just be aware it is...   \n1       I've taken a lot of spin classes over the year...   \n2       Family diner. Had the buffet. Eclectic assortm...   \n3       Wow!  Yummy, different,  delicious.   Our favo...   \n4       Cute interior and owner (?) gave us tour of up...   \n...                                                   ...   \n686552  Great selection of Mexican related food stuffs...   \n689115  Found some sweet deals on fruits!!! I came acr...   \n693901  I got one of those prepaid debit card \"Excepta...   \n695069  Absolute worst, most embarrassing experience o...   \n696153  By far the best chicken pot pie I've ever had ...   \n\n                       date  review_length  \n0       2018-07-07 22:09:11            513  \n1       2012-01-03 15:28:18            829  \n2       2014-02-05 20:30:30            339  \n3       2015-01-04 00:01:03            243  \n4       2017-01-14 20:54:15            534  \n...                     ...            ...  \n686552  2014-01-11 13:00:46            103  \n689115  2019-11-14 00:13:54            163  \n693901  2020-04-29 00:09:28            428  \n695069  2019-04-28 15:00:37            894  \n696153  2021-01-17 17:18:22            227  \n\n[14965 rows x 10 columns]",
      "text/html": "<div>\n<style scoped>\n    .dataframe tbody tr th:only-of-type {\n        vertical-align: middle;\n    }\n\n    .dataframe tbody tr th {\n        vertical-align: top;\n    }\n\n    .dataframe thead th {\n        text-align: right;\n    }\n</style>\n<table border=\"1\" class=\"dataframe\">\n  <thead>\n    <tr style=\"text-align: right;\">\n      <th></th>\n      <th>review_id</th>\n      <th>user_id</th>\n      <th>business_id</th>\n      <th>stars</th>\n      <th>useful</th>\n      <th>funny</th>\n      <th>cool</th>\n      <th>text</th>\n      <th>date</th>\n      <th>review_length</th>\n    </tr>\n  </thead>\n  <tbody>\n    <tr>\n      <th>0</th>\n      <td>KU_O5udG6zpxOg-VcAEodg</td>\n      <td>mh_-eMZ6K5RLWhZyISBhwA</td>\n      <td>XQfwVwDr-v0ZS3_CbbE5Xw</td>\n      <td>3</td>\n      <td>0</td>\n      <td>0</td>\n      <td>0</td>\n      <td>If you decide to eat here, just be aware it is...</td>\n      <td>2018-07-07 22:09:11</td>\n      <td>513</td>\n    </tr>\n    <tr>\n      <th>1</th>\n      <td>BiTunyQ73aT9WBnpR9DZGw</td>\n      <td>OyoGAe7OKpv6SyGZT5g77Q</td>\n      <td>7ATYjTIgM3jUlt4UM3IypQ</td>\n      <td>5</td>\n      <td>1</td>\n      <td>0</td>\n      <td>1</td>\n      <td>I've taken a lot of spin classes over the year...</td>\n      <td>2012-01-03 15:28:18</td>\n      <td>829</td>\n    </tr>\n    <tr>\n      <th>2</th>\n      <td>saUsX_uimxRlCVr67Z4Jig</td>\n      <td>8g_iMtfSiwikVnbP2etR0A</td>\n      <td>YjUWPpI6HXG530lwP-fb2A</td>\n      <td>3</td>\n      <td>0</td>\n      <td>0</td>\n      <td>0</td>\n      <td>Family diner. Had the buffet. Eclectic assortm...</td>\n      <td>2014-02-05 20:30:30</td>\n      <td>339</td>\n    </tr>\n    <tr>\n      <th>3</th>\n      <td>AqPFMleE6RsU23_auESxiA</td>\n      <td>_7bHUi9Uuf5__HHc_Q8guQ</td>\n      <td>kxX2SOes4o-D3ZQBkiMRfA</td>\n      <td>5</td>\n      <td>1</td>\n      <td>0</td>\n      <td>1</td>\n      <td>Wow!  Yummy, different,  delicious.   Our favo...</td>\n      <td>2015-01-04 00:01:03</td>\n      <td>243</td>\n    </tr>\n    <tr>\n      <th>4</th>\n      <td>Sx8TMOWLNuJBWer-0pcmoA</td>\n      <td>bcjbaE6dDog4jkNY91ncLQ</td>\n      <td>e4Vwtrqf-wpJfwesgvdgxQ</td>\n      <td>4</td>\n      <td>1</td>\n      <td>0</td>\n      <td>1</td>\n      <td>Cute interior and owner (?) gave us tour of up...</td>\n      <td>2017-01-14 20:54:15</td>\n      <td>534</td>\n    </tr>\n    <tr>\n      <th>...</th>\n      <td>...</td>\n      <td>...</td>\n      <td>...</td>\n      <td>...</td>\n      <td>...</td>\n      <td>...</td>\n      <td>...</td>\n      <td>...</td>\n      <td>...</td>\n      <td>...</td>\n    </tr>\n    <tr>\n      <th>686552</th>\n      <td>t1GdeuIO_Mcw0E2oEU662w</td>\n      <td>7y3HeuIWJFoVRe-e9kAi3A</td>\n      <td>oDaamK_x-XhTOieP-qVvnw</td>\n      <td>5</td>\n      <td>1</td>\n      <td>0</td>\n      <td>1</td>\n      <td>Great selection of Mexican related food stuffs...</td>\n      <td>2014-01-11 13:00:46</td>\n      <td>103</td>\n    </tr>\n    <tr>\n      <th>689115</th>\n      <td>Xxr0VMnm0RnXlr5RSMt9HQ</td>\n      <td>sb3ZzGzoUECo64EZd6DE9g</td>\n      <td>cBbvS4klOQd221pKQVMGMA</td>\n      <td>4</td>\n      <td>2</td>\n      <td>0</td>\n      <td>0</td>\n      <td>Found some sweet deals on fruits!!! I came acr...</td>\n      <td>2019-11-14 00:13:54</td>\n      <td>163</td>\n    </tr>\n    <tr>\n      <th>693901</th>\n      <td>zMgZCG75QDYYCvKKrGGYfw</td>\n      <td>Q4-WQT0Q3_X4ZtCwDdfH_g</td>\n      <td>2FR-xWttfR8qaODqcuExvw</td>\n      <td>1</td>\n      <td>1</td>\n      <td>1</td>\n      <td>0</td>\n      <td>I got one of those prepaid debit card \"Excepta...</td>\n      <td>2020-04-29 00:09:28</td>\n      <td>428</td>\n    </tr>\n    <tr>\n      <th>695069</th>\n      <td>bqYN3sifORSPnMIInqYgdg</td>\n      <td>kLPT0qfgHY5ppF2NbdPvlg</td>\n      <td>1q54Dq02nSFa9NFbu0Tbxw</td>\n      <td>1</td>\n      <td>3</td>\n      <td>0</td>\n      <td>0</td>\n      <td>Absolute worst, most embarrassing experience o...</td>\n      <td>2019-04-28 15:00:37</td>\n      <td>894</td>\n    </tr>\n    <tr>\n      <th>696153</th>\n      <td>0fm6c5UH3YpiKA7T7nQx-w</td>\n      <td>iEirxmriN2h2NSBkMpMbUA</td>\n      <td>dbfm8H0KQRrxT_QSXrQZ-A</td>\n      <td>5</td>\n      <td>1</td>\n      <td>0</td>\n      <td>0</td>\n      <td>By far the best chicken pot pie I've ever had ...</td>\n      <td>2021-01-17 17:18:22</td>\n      <td>227</td>\n    </tr>\n  </tbody>\n</table>\n<p>14965 rows × 10 columns</p>\n</div>"
     },
     "execution_count": 10,
     "metadata": {},
     "output_type": "execute_result"
    }
   ],
   "source": [
    "#### Drop duplicates\n",
    "df = df.drop_duplicates(subset=['review_id'])\n",
    "df = df.drop_duplicates(subset=['user_id'])\n",
    "df = df.drop_duplicates(subset=['business_id'])\n",
    "df"
   ],
   "metadata": {
    "collapsed": false,
    "ExecuteTime": {
     "end_time": "2023-12-01T09:12:53.201406552Z",
     "start_time": "2023-12-01T09:12:52.836224110Z"
    }
   },
   "id": "ec860b4d0dd4f343"
  },
  {
   "cell_type": "code",
   "execution_count": 11,
   "outputs": [
    {
     "name": "stdout",
     "output_type": "stream",
     "text": [
      "Nulls:\n",
      " review_id        0\n",
      "user_id          0\n",
      "business_id      0\n",
      "stars            0\n",
      "useful           0\n",
      "funny            0\n",
      "cool             0\n",
      "text             0\n",
      "date             0\n",
      "review_length    0\n",
      "dtype: int64\n"
     ]
    }
   ],
   "source": [
    "# Remove Null values \n",
    "nulls= df.isnull().sum()\n",
    "print(\"Nulls:\\n\", nulls)"
   ],
   "metadata": {
    "collapsed": false,
    "ExecuteTime": {
     "end_time": "2023-12-01T09:12:56.764151988Z",
     "start_time": "2023-12-01T09:12:56.747942372Z"
    }
   },
   "id": "dcd81e9a795ee1c9"
  },
  {
   "cell_type": "code",
   "execution_count": 12,
   "outputs": [],
   "source": [
    "import re\n",
    "df['text'] = df['text'].apply(lambda x: re.sub(r'<.*?>', '', x))\n",
    "##%%\n",
    "# Remove special characters \n",
    "df['text'] = df['text'].apply(lambda x: re.sub(r'[^a-zA-Z0-9\\s]', '', x))"
   ],
   "metadata": {
    "collapsed": false,
    "ExecuteTime": {
     "end_time": "2023-12-01T09:13:00.303914901Z",
     "start_time": "2023-12-01T09:13:00.195372024Z"
    }
   },
   "id": "8df19d2f709cd75b"
  },
  {
   "cell_type": "code",
   "execution_count": 13,
   "outputs": [],
   "source": [
    "df['date'] = pd.to_datetime(df['date'])"
   ],
   "metadata": {
    "collapsed": false,
    "ExecuteTime": {
     "end_time": "2023-12-01T09:13:02.347290599Z",
     "start_time": "2023-12-01T09:13:02.327822374Z"
    }
   },
   "id": "79b8eee080ee2c19"
  },
  {
   "cell_type": "markdown",
   "source": [
    "### Tokenization"
   ],
   "metadata": {
    "collapsed": false
   },
   "id": "e7d0e87ac37b0cbe"
  },
  {
   "cell_type": "code",
   "execution_count": 14,
   "outputs": [],
   "source": [
    "token = Tokenizer()\n",
    "token.fit_on_texts(texts)\n",
    "s = token.texts_to_sequences(texts)\n",
    "index = token.word_index\n",
    "maximumlength = 100  # Set your desired sequence length\n",
    "data = pad_sequences(s, maxlen=maximumlength)"
   ],
   "metadata": {
    "collapsed": false,
    "ExecuteTime": {
     "end_time": "2023-12-01T09:13:52.531514691Z",
     "start_time": "2023-12-01T09:13:07.670788700Z"
    }
   },
   "id": "a35ed24848ab6241"
  },
  {
   "cell_type": "code",
   "execution_count": 15,
   "outputs": [],
   "source": [
    "# Encode labels\n",
    "l_encode = LabelEncoder()\n",
    "labels = l_encode.fit_transform(labels)"
   ],
   "metadata": {
    "collapsed": false,
    "ExecuteTime": {
     "end_time": "2023-12-01T09:14:09.493485408Z",
     "start_time": "2023-12-01T09:14:09.433405740Z"
    }
   },
   "id": "30ab1057be0184f5"
  },
  {
   "cell_type": "markdown",
   "source": [
    "### Train and Test Split"
   ],
   "metadata": {
    "collapsed": false
   },
   "id": "40f482dc523c794b"
  },
  {
   "cell_type": "code",
   "execution_count": 16,
   "outputs": [],
   "source": [
    "X_train, X_test, y_train, y_test = train_test_split(data, labels, test_size=0.18, random_state=42)"
   ],
   "metadata": {
    "collapsed": false,
    "ExecuteTime": {
     "end_time": "2023-12-01T09:14:14.035475596Z",
     "start_time": "2023-12-01T09:14:13.816224237Z"
    }
   },
   "id": "ff432a9e5bb8299e"
  },
  {
   "cell_type": "markdown",
   "source": [
    "### LSTM Model"
   ],
   "metadata": {
    "collapsed": false
   },
   "id": "ff7cbf3af4d67126"
  },
  {
   "cell_type": "code",
   "execution_count": 18,
   "outputs": [],
   "source": [
    "model = Sequential()\n",
    "model.add(Embedding(len(index) + 1, 100, input_length=maximumlength))\n",
    "model.add(LSTM(64, dropout=0.2, recurrent_dropout=0.2))\n",
    "model.add(Dense(1, activation='sigmoid'))"
   ],
   "metadata": {
    "collapsed": false,
    "ExecuteTime": {
     "end_time": "2023-12-01T09:14:40.533389631Z",
     "start_time": "2023-12-01T09:14:40.275473657Z"
    }
   },
   "id": "7739b5302e7a0a65"
  },
  {
   "cell_type": "markdown",
   "source": [
    "### Compile the model"
   ],
   "metadata": {
    "collapsed": false
   },
   "id": "414c95ba8fd89d27"
  },
  {
   "cell_type": "code",
   "execution_count": 19,
   "outputs": [],
   "source": [
    "model.compile(optimizer='adam', loss='binary_crossentropy', metrics=['accuracy'])"
   ],
   "metadata": {
    "collapsed": false,
    "ExecuteTime": {
     "end_time": "2023-12-01T09:14:45.246520389Z",
     "start_time": "2023-12-01T09:14:45.203029189Z"
    }
   },
   "id": "8434b5be39863fd1"
  },
  {
   "cell_type": "markdown",
   "source": [
    "### Training the model"
   ],
   "metadata": {
    "collapsed": false
   },
   "id": "2ad8bd4ada616cfb"
  },
  {
   "cell_type": "code",
   "execution_count": 20,
   "outputs": [],
   "source": [
    " # Training with Data Generator\n",
    "def data_generator(data, labels, batch_size):\n",
    "    samples = len(data)\n",
    "    while True:\n",
    "        s_indices = np.arange(samples)\n",
    "        np.random.shuffle(s_indices)\n",
    "        for i in range(0,samples, batch_size):\n",
    "            b_indices = s_indices[i:i+batch_size]\n",
    "            yield data[b_indices], labels[b_indices]"
   ],
   "metadata": {
    "collapsed": false,
    "ExecuteTime": {
     "end_time": "2023-12-01T09:15:17.558199957Z",
     "start_time": "2023-12-01T09:15:17.436019828Z"
    }
   },
   "id": "36795275f60ebf9f"
  },
  {
   "cell_type": "code",
   "execution_count": null,
   "outputs": [],
   "source": [
    "batch_size = 33\n",
    "epochs= len(X_train) // batch_size\n",
    "# Training\n",
    "model.fit(data_generator(X_train, y_train, batch_size),\n",
    "          epochs=7,\n",
    "          steps_per_epoch=epochs,\n",
    "          validation_data=(X_test, y_test))       ######### Lizara"
   ],
   "metadata": {
    "collapsed": false
   },
   "id": "ac7145e0c7846845"
  },
  {
   "cell_type": "code",
   "execution_count": 23,
   "outputs": [
    {
     "name": "stdout",
     "output_type": "stream",
     "text": [
      "4375/4375 [==============================] - 36s 8ms/step - loss: 0.2269 - accuracy: 0.9234\n",
      "Accuracy: 0.9234285950660706\n"
     ]
    }
   ],
   "source": [
    "# Evaluation\n",
    "accuracy = model.evaluate(X_test, y_test)[1]\n",
    "print(f\"Accuracy: {accuracy*100}\")"
   ],
   "metadata": {
    "collapsed": false,
    "ExecuteTime": {
     "end_time": "2023-12-01T03:27:03.961778066Z",
     "start_time": "2023-12-01T03:26:27.756053309Z"
    }
   },
   "id": "f51b6af5cb1ab248"
  },
  {
   "cell_type": "code",
   "execution_count": 24,
   "outputs": [
    {
     "name": "stdout",
     "output_type": "stream",
     "text": [
      "4375/4375 [==============================] - 39s 9ms/step\n"
     ]
    }
   ],
   "source": [
    "# Evaluation\n",
    "y_predicted_value = model.predict(X_test)\n",
    "y_binary_value = (y_predicted_value > 0.5).astype(int)"
   ],
   "metadata": {
    "collapsed": false,
    "ExecuteTime": {
     "end_time": "2023-12-01T03:28:59.456473069Z",
     "start_time": "2023-12-01T03:28:19.325843326Z"
    }
   },
   "id": "1e49e0dbe798f3ec"
  },
  {
   "cell_type": "code",
   "execution_count": 25,
   "outputs": [
    {
     "name": "stdout",
     "output_type": "stream",
     "text": [
      "Precision: 0.9338\n",
      "Recall: 0.9547\n",
      "F1 Score: 0.9442\n"
     ]
    }
   ],
   "source": [
    "# Metrics Calculation\n",
    "prec, rec, f1, _ = precision_recall_fscore_support(y_test, y_binary_value, average='binary')\n",
    "\n",
    "print(f\"Precision score: {prec*100:.4f}\")\n",
    "print(f\"Recall score: {rec*100:.4f}\")\n",
    "print(f\"F1 Score: {f1*100:.4f}\")"
   ],
   "metadata": {
    "collapsed": false,
    "ExecuteTime": {
     "end_time": "2023-12-01T03:29:38.505619098Z",
     "start_time": "2023-12-01T03:29:38.464818473Z"
    }
   },
   "id": "5ed1941d4577fbe9"
  },
  {
   "cell_type": "code",
   "execution_count": 26,
   "outputs": [
    {
     "data": {
      "text/plain": "<Figure size 640x480 with 2 Axes>",
      "image/png": "[encoded data removed]"
     },
     "metadata": {},
     "output_type": "display_data"
    }
   ],
   "source": [
    "# Confusion Matrix\n",
    "conf_matrix = confusion_matrix(y_test, y_binary_value)\n",
    "\n",
    "# Confusion Matrix\n",
    "sns.heatmap(conf_matrix, annot=True, fmt=\"d\", cmap=\"Blues\", xticklabels=['Negative', 'Positive'], yticklabels=['Negative', 'Positive'])\n",
    "plt.title('Matrix')\n",
    "plt.xlabel('Predicted')\n",
    "plt.ylabel('Actual')\n",
    "plt.show()"
   ],
   "metadata": {
    "collapsed": false,
    "ExecuteTime": {
     "end_time": "2023-12-01T03:29:46.735267778Z",
     "start_time": "2023-12-01T03:29:46.586637963Z"
    }
   },
   "id": "73c1fc91228cce3e"
  },
  {
   "cell_type": "code",
   "execution_count": 27,
   "outputs": [
    {
     "data": {
      "text/plain": "<Figure size 1200x1000 with 1 Axes>",
      "image/png": "[encoded data removed]"
     },
     "metadata": {},
     "output_type": "display_data"
    }
   ],
   "source": [
    "# Actual vs Predicted\n",
    "plt.figure(figsize=(12, 10))\n",
    "plt.scatter(y_test, y_predicted_value, alpha=0.5)\n",
    "plt.title('Actual vs Predicted')\n",
    "plt.xlabel('Actual')\n",
    "plt.ylabel('Predicted')\n",
    "plt.show()"
   ],
   "metadata": {
    "collapsed": false,
    "ExecuteTime": {
     "end_time": "2023-12-01T03:29:54.371805422Z",
     "start_time": "2023-12-01T03:29:54.068191214Z"
    }
   },
   "id": "e5de6df9a058348c"
  },
  {
   "cell_type": "markdown",
   "source": [
    "### Bert Super-vised\n"
   ],
   "metadata": {
    "collapsed": false
   },
   "id": "360c532733d75665"
  },
  {
   "cell_type": "code",
   "execution_count": 119,
   "id": "f46aef73a3182928",
   "metadata": {
    "collapsed": false,
    "ExecuteTime": {
     "end_time": "2023-12-01T22:31:25.208942597Z",
     "start_time": "2023-12-01T22:31:22.431879415Z"
    }
   },
   "outputs": [
    {
     "name": "stdout",
     "output_type": "stream",
     "text": [
      "Processing chunk 1\n"
     ]
    }
   ],
   "source": [
    "chunk= 100000\n",
    "file= \"yelp_academic_dataset_review.json\"\n",
    "\n",
    "chunks2 = pd.read_json(file, lines=True, chunksize=chunk)\n",
    "for i, x in enumerate(chunks2):\n",
    "    print(f\"Processing chunk {i + 1}\")\n",
    "    if i == 0:\n",
    "        csv = \"chunk.csv\"\n",
    "        x.to_csv(csv, index=False)\n",
    "    df1= pd.read_csv(\"chunk.csv\")\n",
    "    break"
   ]
  },
  {
   "cell_type": "code",
   "execution_count": 120,
   "outputs": [],
   "source": [
    "def sentiment(stars):  \n",
    "    if 0 <= stars < 3:\n",
    "        return 0 #negative\n",
    "    elif 3 <= stars <= 5:\n",
    "        return 1 #normal\n",
    "    else:\n",
    "        return 'undefined'  \n",
    "\n",
    "df1['sentiment_label'] = df1['stars'].apply(sentiment)\n",
    "le = LabelEncoder()\n",
    "df1['encoded_sentiment'] = le.fit_transform(df1['sentiment_label'])\n",
    "\n",
    "# Extract labels\n",
    "y = df1['encoded_sentiment'].values\n",
    "df1.to_csv('preprocessed_data1.csv', index=False)"
   ],
   "metadata": {
    "collapsed": false,
    "ExecuteTime": {
     "end_time": "2023-12-01T22:31:31.846038540Z",
     "start_time": "2023-12-01T22:31:30.208432677Z"
    }
   },
   "id": "744e9395667a6e15"
  },
  {
   "cell_type": "code",
   "execution_count": 121,
   "id": "f70b30861e00a4ac",
   "metadata": {
    "collapsed": false,
    "ExecuteTime": {
     "end_time": "2023-12-01T22:31:33.365117466Z",
     "start_time": "2023-12-01T22:31:33.343466677Z"
    }
   },
   "outputs": [
    {
     "data": {
      "text/plain": "                    review_id                 user_id             business_id  \\\n0      KU_O5udG6zpxOg-VcAEodg  mh_-eMZ6K5RLWhZyISBhwA  XQfwVwDr-v0ZS3_CbbE5Xw   \n1      BiTunyQ73aT9WBnpR9DZGw  OyoGAe7OKpv6SyGZT5g77Q  7ATYjTIgM3jUlt4UM3IypQ   \n2      saUsX_uimxRlCVr67Z4Jig  8g_iMtfSiwikVnbP2etR0A  YjUWPpI6HXG530lwP-fb2A   \n3      AqPFMleE6RsU23_auESxiA  _7bHUi9Uuf5__HHc_Q8guQ  kxX2SOes4o-D3ZQBkiMRfA   \n4      Sx8TMOWLNuJBWer-0pcmoA  bcjbaE6dDog4jkNY91ncLQ  e4Vwtrqf-wpJfwesgvdgxQ   \n...                       ...                     ...                     ...   \n99995  pAEbIxvr6ebx2bHc1XvguA  SMH5CeiLvKx61lKwtLZ_PA  lV0k3BnslFRkuWD_kbKd0Q   \n99996  xH1AoE-4nf2ECGQJRjO4_g  2clTdtp-BjphxLjN83CpUA  G0xz3kyRhRi6oZl7KfR0pA   \n99997  GatIbXTz-WDru5emONUSIg  MRrN6DH3QGCFcDv5RENYVg  C4lZdhasjZVQyDlOiXY1sA   \n99998  6NfkodAdhvI89xONXuBC3A  rnNQzeKJbvqVCsYsL10mkQ  dChRGpit9fM_kZK5pafNyA   \n99999  sJ1BMq7lkKgOWEFx3n6ZRw  _BcWyKQL16ndpBdggh2kNA  hMcgO98QaOFmQVTfCUeGzw   \n\n       stars  useful  funny  cool  \\\n0          3       0      0     0   \n1          5       1      0     1   \n2          3       0      0     0   \n3          5       1      0     1   \n4          4       1      0     1   \n...      ...     ...    ...   ...   \n99995      4       0      0     0   \n99996      1       1      0     0   \n99997      4       0      0     0   \n99998      2       0      0     0   \n99999      5       0      0     0   \n\n                                                    text                 date  \\\n0      If you decide to eat here, just be aware it is...  2018-07-07 22:09:11   \n1      I've taken a lot of spin classes over the year...  2012-01-03 15:28:18   \n2      Family diner. Had the buffet. Eclectic assortm...  2014-02-05 20:30:30   \n3      Wow!  Yummy, different,  delicious.   Our favo...  2015-01-04 00:01:03   \n4      Cute interior and owner (?) gave us tour of up...  2017-01-14 20:54:15   \n...                                                  ...                  ...   \n99995  Came here for lunch with a group. They were bu...  2018-05-30 22:28:56   \n99996  The equipment is so old and so felty! I just u...  2015-04-05 23:31:52   \n99997  This is one of my favorite Mexican restaurants...  2016-06-04 00:59:15   \n99998  Came here for brunch - had an omlette ($19 + t...  2018-06-11 12:45:08   \n99999  Came in for my 5-6 month prophy and saw Kara -...  2013-06-06 10:10:33   \n\n       sentiment_label  encoded_sentiment  \n0                    1                  1  \n1                    1                  1  \n2                    1                  1  \n3                    1                  1  \n4                    1                  1  \n...                ...                ...  \n99995                1                  1  \n99996                0                  0  \n99997                1                  1  \n99998                0                  0  \n99999                1                  1  \n\n[100000 rows x 11 columns]",
      "text/html": "<div>\n<style scoped>\n    .dataframe tbody tr th:only-of-type {\n        vertical-align: middle;\n    }\n\n    .dataframe tbody tr th {\n        vertical-align: top;\n    }\n\n    .dataframe thead th {\n        text-align: right;\n    }\n</style>\n<table border=\"1\" class=\"dataframe\">\n  <thead>\n    <tr style=\"text-align: right;\">\n      <th></th>\n      <th>review_id</th>\n      <th>user_id</th>\n      <th>business_id</th>\n      <th>stars</th>\n      <th>useful</th>\n      <th>funny</th>\n      <th>cool</th>\n      <th>text</th>\n      <th>date</th>\n      <th>sentiment_label</th>\n      <th>encoded_sentiment</th>\n    </tr>\n  </thead>\n  <tbody>\n    <tr>\n      <th>0</th>\n      <td>KU_O5udG6zpxOg-VcAEodg</td>\n      <td>mh_-eMZ6K5RLWhZyISBhwA</td>\n      <td>XQfwVwDr-v0ZS3_CbbE5Xw</td>\n      <td>3</td>\n      <td>0</td>\n      <td>0</td>\n      <td>0</td>\n      <td>If you decide to eat here, just be aware it is...</td>\n      <td>2018-07-07 22:09:11</td>\n      <td>1</td>\n      <td>1</td>\n    </tr>\n    <tr>\n      <th>1</th>\n      <td>BiTunyQ73aT9WBnpR9DZGw</td>\n      <td>OyoGAe7OKpv6SyGZT5g77Q</td>\n      <td>7ATYjTIgM3jUlt4UM3IypQ</td>\n      <td>5</td>\n      <td>1</td>\n      <td>0</td>\n      <td>1</td>\n      <td>I've taken a lot of spin classes over the year...</td>\n      <td>2012-01-03 15:28:18</td>\n      <td>1</td>\n      <td>1</td>\n    </tr>\n    <tr>\n      <th>2</th>\n      <td>saUsX_uimxRlCVr67Z4Jig</td>\n      <td>8g_iMtfSiwikVnbP2etR0A</td>\n      <td>YjUWPpI6HXG530lwP-fb2A</td>\n      <td>3</td>\n      <td>0</td>\n      <td>0</td>\n      <td>0</td>\n      <td>Family diner. Had the buffet. Eclectic assortm...</td>\n      <td>2014-02-05 20:30:30</td>\n      <td>1</td>\n      <td>1</td>\n    </tr>\n    <tr>\n      <th>3</th>\n      <td>AqPFMleE6RsU23_auESxiA</td>\n      <td>_7bHUi9Uuf5__HHc_Q8guQ</td>\n      <td>kxX2SOes4o-D3ZQBkiMRfA</td>\n      <td>5</td>\n      <td>1</td>\n      <td>0</td>\n      <td>1</td>\n      <td>Wow!  Yummy, different,  delicious.   Our favo...</td>\n      <td>2015-01-04 00:01:03</td>\n      <td>1</td>\n      <td>1</td>\n    </tr>\n    <tr>\n      <th>4</th>\n      <td>Sx8TMOWLNuJBWer-0pcmoA</td>\n      <td>bcjbaE6dDog4jkNY91ncLQ</td>\n      <td>e4Vwtrqf-wpJfwesgvdgxQ</td>\n      <td>4</td>\n      <td>1</td>\n      <td>0</td>\n      <td>1</td>\n      <td>Cute interior and owner (?) gave us tour of up...</td>\n      <td>2017-01-14 20:54:15</td>\n      <td>1</td>\n      <td>1</td>\n    </tr>\n    <tr>\n      <th>...</th>\n      <td>...</td>\n      <td>...</td>\n      <td>...</td>\n      <td>...</td>\n      <td>...</td>\n      <td>...</td>\n      <td>...</td>\n      <td>...</td>\n      <td>...</td>\n      <td>...</td>\n      <td>...</td>\n    </tr>\n    <tr>\n      <th>99995</th>\n      <td>pAEbIxvr6ebx2bHc1XvguA</td>\n      <td>SMH5CeiLvKx61lKwtLZ_PA</td>\n      <td>lV0k3BnslFRkuWD_kbKd0Q</td>\n      <td>4</td>\n      <td>0</td>\n      <td>0</td>\n      <td>0</td>\n      <td>Came here for lunch with a group. They were bu...</td>\n      <td>2018-05-30 22:28:56</td>\n      <td>1</td>\n      <td>1</td>\n    </tr>\n    <tr>\n      <th>99996</th>\n      <td>xH1AoE-4nf2ECGQJRjO4_g</td>\n      <td>2clTdtp-BjphxLjN83CpUA</td>\n      <td>G0xz3kyRhRi6oZl7KfR0pA</td>\n      <td>1</td>\n      <td>1</td>\n      <td>0</td>\n      <td>0</td>\n      <td>The equipment is so old and so felty! I just u...</td>\n      <td>2015-04-05 23:31:52</td>\n      <td>0</td>\n      <td>0</td>\n    </tr>\n    <tr>\n      <th>99997</th>\n      <td>GatIbXTz-WDru5emONUSIg</td>\n      <td>MRrN6DH3QGCFcDv5RENYVg</td>\n      <td>C4lZdhasjZVQyDlOiXY1sA</td>\n      <td>4</td>\n      <td>0</td>\n      <td>0</td>\n      <td>0</td>\n      <td>This is one of my favorite Mexican restaurants...</td>\n      <td>2016-06-04 00:59:15</td>\n      <td>1</td>\n      <td>1</td>\n    </tr>\n    <tr>\n      <th>99998</th>\n      <td>6NfkodAdhvI89xONXuBC3A</td>\n      <td>rnNQzeKJbvqVCsYsL10mkQ</td>\n      <td>dChRGpit9fM_kZK5pafNyA</td>\n      <td>2</td>\n      <td>0</td>\n      <td>0</td>\n      <td>0</td>\n      <td>Came here for brunch - had an omlette ($19 + t...</td>\n      <td>2018-06-11 12:45:08</td>\n      <td>0</td>\n      <td>0</td>\n    </tr>\n    <tr>\n      <th>99999</th>\n      <td>sJ1BMq7lkKgOWEFx3n6ZRw</td>\n      <td>_BcWyKQL16ndpBdggh2kNA</td>\n      <td>hMcgO98QaOFmQVTfCUeGzw</td>\n      <td>5</td>\n      <td>0</td>\n      <td>0</td>\n      <td>0</td>\n      <td>Came in for my 5-6 month prophy and saw Kara -...</td>\n      <td>2013-06-06 10:10:33</td>\n      <td>1</td>\n      <td>1</td>\n    </tr>\n  </tbody>\n</table>\n<p>100000 rows × 11 columns</p>\n</div>"
     },
     "execution_count": 121,
     "metadata": {},
     "output_type": "execute_result"
    }
   ],
   "source": [
    "df1"
   ]
  },
  {
   "cell_type": "code",
   "execution_count": 122,
   "outputs": [
    {
     "data": {
      "text/plain": "<Figure size 600x600 with 1 Axes>",
      "image/png": "[encoded data removed]"
     },
     "metadata": {},
     "output_type": "display_data"
    }
   ],
   "source": [
    "plt.figure(figsize=(6, 6))\n",
    "df1['sentiment_label'].value_counts().sort_index().plot(kind='bar', color=['red', 'yellow', 'green'])\n",
    "plt.title('Sentiment Labels')\n",
    "plt.xlabel('Sentiment Labels')\n",
    "plt.ylabel('Count')\n",
    "plt.show()"
   ],
   "metadata": {
    "collapsed": false,
    "ExecuteTime": {
     "end_time": "2023-12-01T22:31:36.527845090Z",
     "start_time": "2023-12-01T22:31:36.398384408Z"
    }
   },
   "id": "3b3a2f14f5ae398e"
  },
  {
   "cell_type": "markdown",
   "source": [
    "### Selecting divided parts"
   ],
   "metadata": {
    "collapsed": false
   },
   "id": "4cbd632a3aacc089"
  },
  {
   "cell_type": "code",
   "execution_count": 123,
   "id": "initial_id",
   "metadata": {
    "collapsed": false,
    "ExecuteTime": {
     "end_time": "2023-12-01T22:31:40.562610521Z",
     "start_time": "2023-12-01T22:31:40.516554741Z"
    }
   },
   "outputs": [],
   "source": [
    "positive_reviews = df1[df1['sentiment_label'] == 1].sample(n=2000, random_state=42)\n",
    "negative_reviews= df1[df1['sentiment_label'] == 0].sample(n=2000, random_state=42)\n",
    "\n",
    "# Combine the selected samples\n",
    "new_data = pd.concat([positive_reviews, negative_reviews], ignore_index=True)"
   ]
  },
  {
   "cell_type": "code",
   "execution_count": 124,
   "id": "56c63405a6148b1b",
   "metadata": {
    "collapsed": false,
    "ExecuteTime": {
     "end_time": "2023-12-01T22:31:41.526121343Z",
     "start_time": "2023-12-01T22:31:41.493175765Z"
    }
   },
   "outputs": [
    {
     "data": {
      "text/plain": "                   review_id                 user_id             business_id  \\\n0     LP2B6aJarFIJ7I6BJ1cD9A  QY1R3IciPr-IkKeTFsqVOA  Di6uZDhcwnLsgM66Z4fNfw   \n1     mHShP4zIYe1D2S-EBJOGIw  xFj_h72vn0th96ETHQUY7A  rZceWBN1i0QMmmXJcJLfxw   \n2     2Ok8SYfDBlYi8kckknqEUA  huoocXS_i6g65qESKMo7gQ  4NidY2tw42l6iobbtai_kA   \n3     3YGWryyrTbDH0fiCn4OHBQ  Q3E9uqEA0kcgkkjju6h1KQ  wzIN0IqcNOnUjwuzRoG9AA   \n4     ZYbM8Y34-okwn--e5kiO1g  FtZ2rivohSn-KIj_8138yQ  USekrAG0-4tJUs9V2gBBOQ   \n...                      ...                     ...                     ...   \n3995  WpMd2rE9H3Z_Fp38i9OMFw  yjGTXXUjzpR8Q25ZKcKwXw  8usO-H5uFTzlISfGZN8rSg   \n3996  xDKP0idPe3I2zGZTocGa4A  -kMtxnQmE_S3_U1yZ2cVtQ  eaV07HGOcyb27XobHVl8LQ   \n3997  KmVnM35HQR7sEun610gsag  OZ-T-UTOXUXva4RJ8j61oQ  qcLkiAqlxx0oTqZMSC_y6Q   \n3998  P_NZRZPHP3k-HnYacdUtwQ  KGdV17WL4x2w52VK81D_Iw  SRb3xScVOeYfhZP4U8LMdA   \n3999  ioSOnTOAOzSQ_snexu8msw  I9v7jlsljI9NLnrsqIO4qQ  o9Gru-QFoxGK26FSWRCLXA   \n\n      stars  useful  funny  cool  \\\n0         5       0      0     0   \n1         3       6      1     1   \n2         3       0      0     0   \n3         5       0      0     0   \n4         5       0      0     0   \n...     ...     ...    ...   ...   \n3995      2       4      1     0   \n3996      1       3      0     1   \n3997      1       4      1     0   \n3998      2       0      0     0   \n3999      1       0      0     0   \n\n                                                   text                 date  \\\n0     The type of bar a vigilante would go to after ...  2018-03-05 00:04:30   \n1     This place is OK the therapist my son has is w...  2015-11-09 19:21:43   \n2     Really prompt service even though we were 30 m...  2018-01-01 02:41:07   \n3     I got the pick 3! Had the stuffed pepper , jam...  2018-07-28 23:09:42   \n4     Fantastic!  \\n\\nStaff was amazingly friendly. ...  2016-07-27 22:12:07   \n...                                                 ...                  ...   \n3995  The food was good, but that was the only thing...  2015-07-28 20:36:17   \n3996  So basically, you are going to be having a stu...  2012-09-10 19:52:09   \n3997  Absolutely the worst hair cut I have ever seen...  2015-12-23 16:45:43   \n3998  Unfortunately, the other reviews said it all. ...  2015-07-29 00:28:15   \n3999  What a zoo!  I hate renting from this facility...  2006-10-28 19:30:50   \n\n      sentiment_label  encoded_sentiment  \n0                   1                  1  \n1                   1                  1  \n2                   1                  1  \n3                   1                  1  \n4                   1                  1  \n...               ...                ...  \n3995                0                  0  \n3996                0                  0  \n3997                0                  0  \n3998                0                  0  \n3999                0                  0  \n\n[4000 rows x 11 columns]",
      "text/html": "<div>\n<style scoped>\n    .dataframe tbody tr th:only-of-type {\n        vertical-align: middle;\n    }\n\n    .dataframe tbody tr th {\n        vertical-align: top;\n    }\n\n    .dataframe thead th {\n        text-align: right;\n    }\n</style>\n<table border=\"1\" class=\"dataframe\">\n  <thead>\n    <tr style=\"text-align: right;\">\n      <th></th>\n      <th>review_id</th>\n      <th>user_id</th>\n      <th>business_id</th>\n      <th>stars</th>\n      <th>useful</th>\n      <th>funny</th>\n      <th>cool</th>\n      <th>text</th>\n      <th>date</th>\n      <th>sentiment_label</th>\n      <th>encoded_sentiment</th>\n    </tr>\n  </thead>\n  <tbody>\n    <tr>\n      <th>0</th>\n      <td>LP2B6aJarFIJ7I6BJ1cD9A</td>\n      <td>QY1R3IciPr-IkKeTFsqVOA</td>\n      <td>Di6uZDhcwnLsgM66Z4fNfw</td>\n      <td>5</td>\n      <td>0</td>\n      <td>0</td>\n      <td>0</td>\n      <td>The type of bar a vigilante would go to after ...</td>\n      <td>2018-03-05 00:04:30</td>\n      <td>1</td>\n      <td>1</td>\n    </tr>\n    <tr>\n      <th>1</th>\n      <td>mHShP4zIYe1D2S-EBJOGIw</td>\n      <td>xFj_h72vn0th96ETHQUY7A</td>\n      <td>rZceWBN1i0QMmmXJcJLfxw</td>\n      <td>3</td>\n      <td>6</td>\n      <td>1</td>\n      <td>1</td>\n      <td>This place is OK the therapist my son has is w...</td>\n      <td>2015-11-09 19:21:43</td>\n      <td>1</td>\n      <td>1</td>\n    </tr>\n    <tr>\n      <th>2</th>\n      <td>2Ok8SYfDBlYi8kckknqEUA</td>\n      <td>huoocXS_i6g65qESKMo7gQ</td>\n      <td>4NidY2tw42l6iobbtai_kA</td>\n      <td>3</td>\n      <td>0</td>\n      <td>0</td>\n      <td>0</td>\n      <td>Really prompt service even though we were 30 m...</td>\n      <td>2018-01-01 02:41:07</td>\n      <td>1</td>\n      <td>1</td>\n    </tr>\n    <tr>\n      <th>3</th>\n      <td>3YGWryyrTbDH0fiCn4OHBQ</td>\n      <td>Q3E9uqEA0kcgkkjju6h1KQ</td>\n      <td>wzIN0IqcNOnUjwuzRoG9AA</td>\n      <td>5</td>\n      <td>0</td>\n      <td>0</td>\n      <td>0</td>\n      <td>I got the pick 3! Had the stuffed pepper , jam...</td>\n      <td>2018-07-28 23:09:42</td>\n      <td>1</td>\n      <td>1</td>\n    </tr>\n    <tr>\n      <th>4</th>\n      <td>ZYbM8Y34-okwn--e5kiO1g</td>\n      <td>FtZ2rivohSn-KIj_8138yQ</td>\n      <td>USekrAG0-4tJUs9V2gBBOQ</td>\n      <td>5</td>\n      <td>0</td>\n      <td>0</td>\n      <td>0</td>\n      <td>Fantastic!  \\n\\nStaff was amazingly friendly. ...</td>\n      <td>2016-07-27 22:12:07</td>\n      <td>1</td>\n      <td>1</td>\n    </tr>\n    <tr>\n      <th>...</th>\n      <td>...</td>\n      <td>...</td>\n      <td>...</td>\n      <td>...</td>\n      <td>...</td>\n      <td>...</td>\n      <td>...</td>\n      <td>...</td>\n      <td>...</td>\n      <td>...</td>\n      <td>...</td>\n    </tr>\n    <tr>\n      <th>3995</th>\n      <td>WpMd2rE9H3Z_Fp38i9OMFw</td>\n      <td>yjGTXXUjzpR8Q25ZKcKwXw</td>\n      <td>8usO-H5uFTzlISfGZN8rSg</td>\n      <td>2</td>\n      <td>4</td>\n      <td>1</td>\n      <td>0</td>\n      <td>The food was good, but that was the only thing...</td>\n      <td>2015-07-28 20:36:17</td>\n      <td>0</td>\n      <td>0</td>\n    </tr>\n    <tr>\n      <th>3996</th>\n      <td>xDKP0idPe3I2zGZTocGa4A</td>\n      <td>-kMtxnQmE_S3_U1yZ2cVtQ</td>\n      <td>eaV07HGOcyb27XobHVl8LQ</td>\n      <td>1</td>\n      <td>3</td>\n      <td>0</td>\n      <td>1</td>\n      <td>So basically, you are going to be having a stu...</td>\n      <td>2012-09-10 19:52:09</td>\n      <td>0</td>\n      <td>0</td>\n    </tr>\n    <tr>\n      <th>3997</th>\n      <td>KmVnM35HQR7sEun610gsag</td>\n      <td>OZ-T-UTOXUXva4RJ8j61oQ</td>\n      <td>qcLkiAqlxx0oTqZMSC_y6Q</td>\n      <td>1</td>\n      <td>4</td>\n      <td>1</td>\n      <td>0</td>\n      <td>Absolutely the worst hair cut I have ever seen...</td>\n      <td>2015-12-23 16:45:43</td>\n      <td>0</td>\n      <td>0</td>\n    </tr>\n    <tr>\n      <th>3998</th>\n      <td>P_NZRZPHP3k-HnYacdUtwQ</td>\n      <td>KGdV17WL4x2w52VK81D_Iw</td>\n      <td>SRb3xScVOeYfhZP4U8LMdA</td>\n      <td>2</td>\n      <td>0</td>\n      <td>0</td>\n      <td>0</td>\n      <td>Unfortunately, the other reviews said it all. ...</td>\n      <td>2015-07-29 00:28:15</td>\n      <td>0</td>\n      <td>0</td>\n    </tr>\n    <tr>\n      <th>3999</th>\n      <td>ioSOnTOAOzSQ_snexu8msw</td>\n      <td>I9v7jlsljI9NLnrsqIO4qQ</td>\n      <td>o9Gru-QFoxGK26FSWRCLXA</td>\n      <td>1</td>\n      <td>0</td>\n      <td>0</td>\n      <td>0</td>\n      <td>What a zoo!  I hate renting from this facility...</td>\n      <td>2006-10-28 19:30:50</td>\n      <td>0</td>\n      <td>0</td>\n    </tr>\n  </tbody>\n</table>\n<p>4000 rows × 11 columns</p>\n</div>"
     },
     "execution_count": 124,
     "metadata": {},
     "output_type": "execute_result"
    }
   ],
   "source": [
    "new_data"
   ]
  },
  {
   "cell_type": "markdown",
   "source": [
    "#### Load model and tokenizer"
   ],
   "metadata": {
    "collapsed": false
   },
   "id": "c83e734884c57f29"
  },
  {
   "cell_type": "code",
   "execution_count": 125,
   "id": "dff61dffb6be7e22",
   "metadata": {
    "collapsed": false,
    "ExecuteTime": {
     "end_time": "2023-12-01T22:31:48.681800379Z",
     "start_time": "2023-12-01T22:31:45.630112310Z"
    }
   },
   "outputs": [
    {
     "name": "stderr",
     "output_type": "stream",
     "text": [
      "Some weights of BertForSequenceClassification were not initialized from the model checkpoint at bert-base-uncased and are newly initialized: ['classifier.bias', 'classifier.weight']\n",
      "You should probably TRAIN this model on a down-stream task to be able to use it for predictions and inference.\n"
     ]
    }
   ],
   "source": [
    "from transformers import BertTokenizer, BertForSequenceClassification \n",
    "model_name = \"bert-base-uncased\"\n",
    "# tokenizer\n",
    "tokenizer = BertTokenizer.from_pretrained(model_name)\n",
    "# Model\n",
    "model = BertForSequenceClassification.from_pretrained(model_name, num_labels=3)"
   ]
  },
  {
   "cell_type": "markdown",
   "source": [
    "#### Tokenizer"
   ],
   "metadata": {
    "collapsed": false
   },
   "id": "f725cbd7499c1a33"
  },
  {
   "cell_type": "code",
   "execution_count": 126,
   "metadata": {
    "ExecuteTime": {
     "end_time": "2023-12-01T22:31:58.783753646Z",
     "start_time": "2023-12-01T22:31:52.263141282Z"
    }
   },
   "outputs": [],
   "source": [
    "# Tokenize the texts (reviews)\n",
    "import torch\n",
    "\n",
    "tokenized_vals = []\n",
    "\n",
    "for text in new_data['text']:\n",
    "    tokens = tokenizer.encode_plus(\n",
    "        text,\n",
    "        add_special_tokens=True,\n",
    "        max_length=128, \n",
    "        padding='max_length',\n",
    "        truncation=True,\n",
    "        return_tensors='pt'\n",
    "    )\n",
    "    # Append individually\n",
    "    tokenized_vals.append({\n",
    "        'input_ids': tokens['input_ids'],\n",
    "        'attention_mask': tokens['attention_mask']\n",
    "    })\n",
    "\n",
    "# Extracting input tensors separately\n",
    "input_ids = torch.cat([entry['input_ids'] for entry in tokenized_vals], dim=0)\n",
    "attention_mask = torch.cat([entry['attention_mask'] for entry in tokenized_vals], dim=0)\n"
   ],
   "id": "c40fe859315047eb"
  },
  {
   "cell_type": "markdown",
   "source": [
    "#### Train and test split"
   ],
   "metadata": {
    "collapsed": false
   },
   "id": "89000442e487914f"
  },
  {
   "cell_type": "code",
   "execution_count": 127,
   "outputs": [],
   "source": [
    "label = new_data['encoded_sentiment']"
   ],
   "metadata": {
    "collapsed": false,
    "ExecuteTime": {
     "end_time": "2023-12-01T22:32:04.401278188Z",
     "start_time": "2023-12-01T22:32:04.375010018Z"
    }
   },
   "id": "7f8363980f8ba3c6"
  },
  {
   "cell_type": "code",
   "execution_count": 128,
   "metadata": {
    "ExecuteTime": {
     "end_time": "2023-12-01T22:32:06.510683025Z",
     "start_time": "2023-12-01T22:32:06.461981053Z"
    }
   },
   "outputs": [],
   "source": [
    "X_train_id, X_test_id, X_train_m, X_test_m, y_train, y_test = train_test_split(\n",
    "    input_ids.numpy(),\n",
    "    attention_mask.numpy(),\n",
    "    label,\n",
    "    test_size=0.15,\n",
    "    random_state=42\n",
    ")"
   ],
   "id": "c53659815d380684"
  },
  {
   "cell_type": "code",
   "execution_count": 129,
   "id": "8393e04480e9c9ed",
   "metadata": {
    "collapsed": false,
    "ExecuteTime": {
     "end_time": "2023-12-01T22:32:09.578822683Z",
     "start_time": "2023-12-01T22:32:09.515863278Z"
    }
   },
   "outputs": [
    {
     "name": "stdout",
     "output_type": "stream",
     "text": [
      "(3400, 128) (600, 128) (3400, 128) (600, 128) (3400,) (600,)\n"
     ]
    }
   ],
   "source": [
    "print(X_train_id.shape, X_test_id.shape, X_train_m.shape, X_test_m.shape, y_train.shape, y_test.shape)"
   ]
  },
  {
   "cell_type": "code",
   "execution_count": 130,
   "metadata": {
    "ExecuteTime": {
     "end_time": "2023-12-01T22:32:13.517934490Z",
     "start_time": "2023-12-01T22:32:13.498481980Z"
    }
   },
   "outputs": [],
   "source": [
    "# PyTorch tensors \n",
    "X_train_ids= torch.tensor(X_train_id, dtype=torch.long)\n",
    "X_test_ids= torch.tensor(X_test_id, dtype=torch.long)\n",
    "X_train_mask= torch.tensor(X_train_m, dtype=torch.long)\n",
    "X_test_mask= torch.tensor(X_test_m, dtype=torch.long)\n",
    "y_train= torch.tensor(y_train.values, dtype=torch.long) \n",
    "y_test= torch.tensor(y_test.values, dtype=torch.long)  "
   ],
   "id": "89b874ad21459b1f"
  },
  {
   "cell_type": "markdown",
   "source": [
    "### Loading optimizer"
   ],
   "metadata": {
    "collapsed": false
   },
   "id": "414b8b3f3170c940"
  },
  {
   "cell_type": "code",
   "execution_count": 131,
   "id": "c8aea60188055875",
   "metadata": {
    "collapsed": false,
    "ExecuteTime": {
     "end_time": "2023-12-01T22:32:19.216414955Z",
     "start_time": "2023-12-01T22:32:19.171914981Z"
    }
   },
   "outputs": [],
   "source": [
    "criter = torch.nn.CrossEntropyLoss()   \n",
    "optim= torch.optim.AdamW(model.parameters(), lr=5e-5)"
   ]
  },
  {
   "cell_type": "markdown",
   "id": "323bbb21d72ff741",
   "metadata": {
    "collapsed": false
   },
   "source": [
    "### Training the model"
   ]
  },
  {
   "cell_type": "code",
   "execution_count": 132,
   "id": "790920d77b296858",
   "metadata": {
    "collapsed": false,
    "ExecuteTime": {
     "end_time": "2023-12-01T22:32:23.706851106Z",
     "start_time": "2023-12-01T22:32:23.672762867Z"
    }
   },
   "outputs": [],
   "source": [
    "epochs = 3\n",
    "batch_size = 3\n",
    "\n",
    "train_data = TensorDataset(X_train_ids, X_train_mask, y_train)\n",
    "test_data = TensorDataset(X_test_ids, X_test_mask, y_test)\n",
    "\n",
    "train_load = DataLoader(train_data, batch_size=batch_size, shuffle=True)\n",
    "test_load= DataLoader(test_data,batch_size=batch_size, shuffle=True)"
   ]
  },
  {
   "cell_type": "code",
   "execution_count": null,
   "id": "b2c73f3627ce1996",
   "metadata": {
    "collapsed": false
   },
   "outputs": [],
   "source": [
    "for epoch in range(epochs):\n",
    "    model.train()\n",
    "    total_loss = 0\n",
    "    for batch in train_load:\n",
    "        inputs, attention_mask, label = batch\n",
    "        optim.zero_grad()\n",
    "\n",
    "        if label is not None:\n",
    "            print(\"Working\")\n",
    "            batch_output= model(inputs, attention_mask=attention_mask, labels=label)\n",
    "            loss = batch_output.loss\n",
    "            total_loss += loss.item()\n",
    "\n",
    "            # Backpropagation and optimization\n",
    "            loss.backward()\n",
    "            optim.step()\n",
    "            print(\"Outputs:\", batch_output)\n",
    "\n",
    "    print(f\"Epoch {epoch + 1}/{epochs}, Loss_per_epoch: {total_loss}\")\n",
    "# Save the model\n",
    "torch.save(model.state_dict(), 'model.pth')                  ############################## Abdul"
   ]
  },
  {
   "cell_type": "markdown",
   "source": [
    "### Load the model"
   ],
   "metadata": {
    "collapsed": false
   },
   "id": "9fadd1ea9c9a50e6"
  },
  {
   "cell_type": "code",
   "execution_count": 18,
   "id": "be9d6a82f7b677b",
   "metadata": {
    "collapsed": false,
    "ExecuteTime": {
     "end_time": "2023-12-01T05:36:17.429013825Z",
     "start_time": "2023-12-01T05:36:15.776026092Z"
    }
   },
   "outputs": [
    {
     "name": "stderr",
     "output_type": "stream",
     "text": [
      "Some weights of BertForSequenceClassification were not initialized from the model checkpoint at bert-base-uncased and are newly initialized: ['classifier.weight', 'classifier.bias']\n",
      "You should probably TRAIN this model on a down-stream task to be able to use it for predictions and inference.\n"
     ]
    },
    {
     "data": {
      "text/plain": "<All keys matched successfully>"
     },
     "execution_count": 18,
     "metadata": {},
     "output_type": "execute_result"
    }
   ],
   "source": [
    "save_model= BertForSequenceClassification.from_pretrained(model_name, num_labels=3)\n",
    "save_model.load_state_dict(torch.load('model.pth'))"
   ]
  },
  {
   "cell_type": "markdown",
   "source": [
    "#### Train on test data"
   ],
   "metadata": {
    "collapsed": false
   },
   "id": "95fccc529bc375ac"
  },
  {
   "cell_type": "code",
   "execution_count": 19,
   "outputs": [
    {
     "name": "stdout",
     "output_type": "stream",
     "text": [
      "Evaluating Batch: 1/200\n",
      "Evaluating Batch: 4/200\n",
      "Evaluating Batch: 7/200\n",
      "Evaluating Batch: 10/200\n",
      "Evaluating Batch: 13/200\n",
      "Evaluating Batch: 16/200\n",
      "Evaluating Batch: 19/200\n",
      "Evaluating Batch: 22/200\n",
      "Evaluating Batch: 25/200\n",
      "Evaluating Batch: 28/200\n",
      "Evaluating Batch: 31/200\n",
      "Evaluating Batch: 34/200\n",
      "Evaluating Batch: 37/200\n",
      "Evaluating Batch: 40/200\n",
      "Evaluating Batch: 43/200\n",
      "Evaluating Batch: 46/200\n",
      "Evaluating Batch: 49/200\n",
      "Evaluating Batch: 52/200\n",
      "Evaluating Batch: 55/200\n",
      "Evaluating Batch: 58/200\n",
      "Evaluating Batch: 61/200\n",
      "Evaluating Batch: 64/200\n",
      "Evaluating Batch: 67/200\n",
      "Evaluating Batch: 70/200\n",
      "Evaluating Batch: 73/200\n",
      "Evaluating Batch: 76/200\n",
      "Evaluating Batch: 79/200\n",
      "Evaluating Batch: 82/200\n",
      "Evaluating Batch: 85/200\n",
      "Evaluating Batch: 88/200\n",
      "Evaluating Batch: 91/200\n",
      "Evaluating Batch: 94/200\n",
      "Evaluating Batch: 97/200\n",
      "Evaluating Batch: 100/200\n",
      "Evaluating Batch: 103/200\n",
      "Evaluating Batch: 106/200\n",
      "Evaluating Batch: 109/200\n",
      "Evaluating Batch: 112/200\n",
      "Evaluating Batch: 115/200\n",
      "Evaluating Batch: 118/200\n",
      "Evaluating Batch: 121/200\n",
      "Evaluating Batch: 124/200\n",
      "Evaluating Batch: 127/200\n",
      "Evaluating Batch: 130/200\n",
      "Evaluating Batch: 133/200\n",
      "Evaluating Batch: 136/200\n",
      "Evaluating Batch: 139/200\n",
      "Evaluating Batch: 142/200\n",
      "Evaluating Batch: 145/200\n",
      "Evaluating Batch: 148/200\n",
      "Evaluating Batch: 151/200\n",
      "Evaluating Batch: 154/200\n",
      "Evaluating Batch: 157/200\n",
      "Evaluating Batch: 160/200\n",
      "Evaluating Batch: 163/200\n",
      "Evaluating Batch: 166/200\n",
      "Evaluating Batch: 169/200\n",
      "Evaluating Batch: 172/200\n",
      "Evaluating Batch: 175/200\n",
      "Evaluating Batch: 178/200\n",
      "Evaluating Batch: 181/200\n",
      "Evaluating Batch: 184/200\n",
      "Evaluating Batch: 187/200\n",
      "Evaluating Batch: 190/200\n",
      "Evaluating Batch: 193/200\n",
      "Evaluating Batch: 196/200\n",
      "Evaluating Batch: 199/200\n",
      "Evaluating Batch: 202/200\n",
      "Evaluating Batch: 205/200\n",
      "Evaluating Batch: 208/200\n",
      "Evaluating Batch: 211/200\n",
      "Evaluating Batch: 214/200\n",
      "Evaluating Batch: 217/200\n",
      "Evaluating Batch: 220/200\n",
      "Evaluating Batch: 223/200\n",
      "Evaluating Batch: 226/200\n",
      "Evaluating Batch: 229/200\n",
      "Evaluating Batch: 232/200\n",
      "Evaluating Batch: 235/200\n",
      "Evaluating Batch: 238/200\n",
      "Evaluating Batch: 241/200\n",
      "Evaluating Batch: 244/200\n",
      "Evaluating Batch: 247/200\n",
      "Evaluating Batch: 250/200\n",
      "Evaluating Batch: 253/200\n",
      "Evaluating Batch: 256/200\n",
      "Evaluating Batch: 259/200\n",
      "Evaluating Batch: 262/200\n",
      "Evaluating Batch: 265/200\n",
      "Evaluating Batch: 268/200\n",
      "Evaluating Batch: 271/200\n",
      "Evaluating Batch: 274/200\n",
      "Evaluating Batch: 277/200\n",
      "Evaluating Batch: 280/200\n",
      "Evaluating Batch: 283/200\n",
      "Evaluating Batch: 286/200\n",
      "Evaluating Batch: 289/200\n",
      "Evaluating Batch: 292/200\n",
      "Evaluating Batch: 295/200\n",
      "Evaluating Batch: 298/200\n",
      "Evaluating Batch: 301/200\n",
      "Evaluating Batch: 304/200\n",
      "Evaluating Batch: 307/200\n",
      "Evaluating Batch: 310/200\n",
      "Evaluating Batch: 313/200\n",
      "Evaluating Batch: 316/200\n",
      "Evaluating Batch: 319/200\n",
      "Evaluating Batch: 322/200\n",
      "Evaluating Batch: 325/200\n",
      "Evaluating Batch: 328/200\n",
      "Evaluating Batch: 331/200\n",
      "Evaluating Batch: 334/200\n",
      "Evaluating Batch: 337/200\n",
      "Evaluating Batch: 340/200\n",
      "Evaluating Batch: 343/200\n",
      "Evaluating Batch: 346/200\n",
      "Evaluating Batch: 349/200\n",
      "Evaluating Batch: 352/200\n",
      "Evaluating Batch: 355/200\n",
      "Evaluating Batch: 358/200\n",
      "Evaluating Batch: 361/200\n",
      "Evaluating Batch: 364/200\n",
      "Evaluating Batch: 367/200\n",
      "Evaluating Batch: 370/200\n",
      "Evaluating Batch: 373/200\n",
      "Evaluating Batch: 376/200\n",
      "Evaluating Batch: 379/200\n",
      "Evaluating Batch: 382/200\n",
      "Evaluating Batch: 385/200\n",
      "Evaluating Batch: 388/200\n",
      "Evaluating Batch: 391/200\n",
      "Evaluating Batch: 394/200\n",
      "Evaluating Batch: 397/200\n",
      "Evaluating Batch: 400/200\n",
      "Evaluating Batch: 403/200\n",
      "Evaluating Batch: 406/200\n",
      "Evaluating Batch: 409/200\n",
      "Evaluating Batch: 412/200\n",
      "Evaluating Batch: 415/200\n",
      "Evaluating Batch: 418/200\n",
      "Evaluating Batch: 421/200\n",
      "Evaluating Batch: 424/200\n",
      "Evaluating Batch: 427/200\n",
      "Evaluating Batch: 430/200\n",
      "Evaluating Batch: 433/200\n",
      "Evaluating Batch: 436/200\n",
      "Evaluating Batch: 439/200\n",
      "Evaluating Batch: 442/200\n",
      "Evaluating Batch: 445/200\n",
      "Evaluating Batch: 448/200\n",
      "Evaluating Batch: 451/200\n",
      "Evaluating Batch: 454/200\n",
      "Evaluating Batch: 457/200\n",
      "Evaluating Batch: 460/200\n",
      "Evaluating Batch: 463/200\n",
      "Evaluating Batch: 466/200\n",
      "Evaluating Batch: 469/200\n",
      "Evaluating Batch: 472/200\n",
      "Evaluating Batch: 475/200\n",
      "Evaluating Batch: 478/200\n",
      "Evaluating Batch: 481/200\n",
      "Evaluating Batch: 484/200\n",
      "Evaluating Batch: 487/200\n",
      "Evaluating Batch: 490/200\n",
      "Evaluating Batch: 493/200\n",
      "Evaluating Batch: 496/200\n",
      "Evaluating Batch: 499/200\n",
      "Evaluating Batch: 502/200\n",
      "Evaluating Batch: 505/200\n",
      "Evaluating Batch: 508/200\n",
      "Evaluating Batch: 511/200\n",
      "Evaluating Batch: 514/200\n",
      "Evaluating Batch: 517/200\n",
      "Evaluating Batch: 520/200\n",
      "Evaluating Batch: 523/200\n",
      "Evaluating Batch: 526/200\n",
      "Evaluating Batch: 529/200\n",
      "Evaluating Batch: 532/200\n",
      "Evaluating Batch: 535/200\n",
      "Evaluating Batch: 538/200\n",
      "Evaluating Batch: 541/200\n",
      "Evaluating Batch: 544/200\n",
      "Evaluating Batch: 547/200\n",
      "Evaluating Batch: 550/200\n",
      "Evaluating Batch: 553/200\n",
      "Evaluating Batch: 556/200\n",
      "Evaluating Batch: 559/200\n",
      "Evaluating Batch: 562/200\n",
      "Evaluating Batch: 565/200\n",
      "Evaluating Batch: 568/200\n",
      "Evaluating Batch: 571/200\n",
      "Evaluating Batch: 574/200\n",
      "Evaluating Batch: 577/200\n",
      "Evaluating Batch: 580/200\n",
      "Evaluating Batch: 583/200\n",
      "Evaluating Batch: 586/200\n",
      "Evaluating Batch: 589/200\n",
      "Evaluating Batch: 592/200\n",
      "Evaluating Batch: 595/200\n",
      "Evaluating Batch: 598/200\n",
      "Accuracy on the test set: 87.00%\n"
     ]
    }
   ],
   "source": [
    "save_model.eval()  \n",
    "with torch.no_grad(): \n",
    "    total= 0\n",
    "    actual_pred = 0\n",
    "\n",
    "    for batch in test_load:\n",
    "        inputs, attention_mask, labels = batch\n",
    "        print(f\"Working: {total+ 1}/{len(test_load)}\")\n",
    "\n",
    "        test_predictions = save_model(inputs, attention_mask=attention_mask)\n",
    "        _, predicted= torch.max(test_predictions.logits, 1)\n",
    "        actual_pred += (predicted== labels).sum().item()\n",
    "        total+= labels.size(0)\n",
    "\n",
    "    accuracy = actual_pred / total\n",
    "print(f\"Accuracy: {accuracy * 100:.2f}%\")"
   ],
   "metadata": {
    "collapsed": false,
    "ExecuteTime": {
     "end_time": "2023-12-01T05:37:13.390978109Z",
     "start_time": "2023-12-01T05:36:22.712454271Z"
    }
   },
   "id": "f47646cfcec0c03"
  },
  {
   "cell_type": "markdown",
   "metadata": {},
   "source": [],
   "id": "966d1235cb65c49a"
  },
  {
   "cell_type": "code",
   "execution_count": 2,
   "id": "c1eb5e5a923dedfa",
   "metadata": {
    "collapsed": false,
    "ExecuteTime": {
     "end_time": "2023-12-01T22:38:34.008853043Z",
     "start_time": "2023-12-01T22:38:33.954660236Z"
    }
   },
   "outputs": [
    {
     "name": "stdout",
     "output_type": "stream",
     "text": [
      "Processing chunk 1\n"
     ]
    }
   ],
   "source": [
    "chunk= 100\n",
    "file= \"yelp_academic_dataset_review.json\"\n",
    "\n",
    "chunks1 = pd.read_json(file, lines=True, chunksize=chunk)\n",
    "\n",
    "# Iterate over chunks and process each chunk\n",
    "for i, x in enumerate(chunks1):\n",
    "    print(f\"Processing chunk {i + 1}\")\n",
    "\n",
    "    # Save the first chunk to a CSV file\n",
    "    if i == 0:\n",
    "        csv= \"chunk.csv\"\n",
    "        x.to_csv(csv, index=False)\n",
    "\n",
    "    df2= pd.read_csv(\"chunk.csv\")\n",
    "    break"
   ]
  },
  {
   "cell_type": "markdown",
   "source": [
    "### Using Roberta for unsupervised Learning"
   ],
   "metadata": {
    "collapsed": false
   },
   "id": "1565d0b43bc1e0d6"
  },
  {
   "cell_type": "code",
   "execution_count": 3,
   "id": "403ce9ec799a8e0",
   "metadata": {
    "collapsed": false,
    "ExecuteTime": {
     "end_time": "2023-12-01T22:38:37.572607013Z",
     "start_time": "2023-12-01T22:38:37.505913472Z"
    }
   },
   "outputs": [],
   "source": [
    "from transformers import RobertaTokenizer, RobertaModel\n",
    "import torch\n",
    "from sklearn.cluster import KMeans\n",
    "import pandas as pd\n",
    "\n",
    "text_data = df2['text'].tolist()"
   ]
  },
  {
   "cell_type": "markdown",
   "source": [
    "### Tokenization"
   ],
   "metadata": {
    "collapsed": false
   },
   "id": "eba29db46d8d0ead"
  },
  {
   "cell_type": "code",
   "execution_count": 4,
   "outputs": [
    {
     "name": "stderr",
     "output_type": "stream",
     "text": [
      "Some weights of RobertaModel were not initialized from the model checkpoint at roberta-base and are newly initialized: ['roberta.pooler.dense.weight', 'roberta.pooler.dense.bias']\n",
      "You should probably TRAIN this model on a down-stream task to be able to use it for predictions and inference.\n"
     ]
    }
   ],
   "source": [
    "tokenizer = RobertaTokenizer.from_pretrained('roberta-base')\n",
    "model = RobertaModel.from_pretrained('roberta-base')\n",
    "text_encode = tokenizer(text_data, padding=True, truncation=True, return_tensors='pt')"
   ],
   "metadata": {
    "collapsed": false,
    "ExecuteTime": {
     "end_time": "2023-12-01T22:38:51.116194939Z",
     "start_time": "2023-12-01T22:38:46.895998019Z"
    }
   },
   "id": "8eb7908ee75a4743"
  },
  {
   "cell_type": "markdown",
   "source": [
    "### Embedding"
   ],
   "metadata": {
    "collapsed": false
   },
   "id": "ecff625e6772ccc1"
  },
  {
   "cell_type": "code",
   "execution_count": 5,
   "outputs": [],
   "source": [
    "with torch.no_grad():\n",
    "    outputs = model(**text_encode)\n",
    "    embeddings_data = outputs.last_hidden_state.mean(dim=1).numpy()"
   ],
   "metadata": {
    "collapsed": false,
    "ExecuteTime": {
     "end_time": "2023-12-01T22:39:52.742598806Z",
     "start_time": "2023-12-01T22:38:55.194041920Z"
    }
   },
   "id": "a213b623a760f9bf"
  },
  {
   "cell_type": "markdown",
   "source": [
    "### Plotting and finding PCA components"
   ],
   "metadata": {
    "collapsed": false
   },
   "id": "54ca2f7c6350d09e"
  },
  {
   "cell_type": "code",
   "execution_count": 6,
   "outputs": [
    {
     "data": {
      "text/plain": "<Figure size 1200x800 with 1 Axes>",
      "image/png": "[encoded data removed]"
     },
     "metadata": {},
     "output_type": "display_data"
    }
   ],
   "source": [
    "pca = PCA()\n",
    "pca.fit(embeddings_data)\n",
    "\n",
    "plt.figure(figsize=(12, 8))\n",
    "sns.lineplot(x=range(1, len(pca.explained_variance_ratio_) + 1), y=np.cumsum(pca.explained_variance_ratio_))\n",
    "plt.title('Variance')\n",
    "plt.xlabel('No. of Components')\n",
    "plt.ylabel('Cumulative Variance')\n",
    "plt.show()"
   ],
   "metadata": {
    "collapsed": false,
    "ExecuteTime": {
     "end_time": "2023-12-01T22:39:59.198206802Z",
     "start_time": "2023-12-01T22:39:58.809263694Z"
    }
   },
   "id": "2c50a57aa693d044"
  },
  {
   "cell_type": "markdown",
   "source": [
    "### Using elbow method to decide the number of components"
   ],
   "metadata": {
    "collapsed": false
   },
   "id": "d4b0f77f3b2a4bf6"
  },
  {
   "cell_type": "code",
   "execution_count": 7,
   "outputs": [],
   "source": [
    "cumulative_var = np.cumsum(pca.explained_variance_ratio_)\n",
    "elbow_index = np.argmax(np.diff(cumulative_var) < 0.01)"
   ],
   "metadata": {
    "collapsed": false,
    "ExecuteTime": {
     "end_time": "2023-12-01T22:40:03.963809164Z",
     "start_time": "2023-12-01T22:40:03.945367535Z"
    }
   },
   "id": "66a63a969eb68e70"
  },
  {
   "cell_type": "code",
   "execution_count": 8,
   "outputs": [
    {
     "name": "stdout",
     "output_type": "stream",
     "text": [
      "Number of Components: 14\n"
     ]
    }
   ],
   "source": [
    "components = elbow_index + 1\n",
    "print(f\"Number of Components: {components}\")"
   ],
   "metadata": {
    "collapsed": false,
    "ExecuteTime": {
     "end_time": "2023-12-01T22:40:04.926633582Z",
     "start_time": "2023-12-01T22:40:04.904568021Z"
    }
   },
   "id": "73e9d25ca5c33d76"
  },
  {
   "cell_type": "markdown",
   "source": [
    "### Applying PCA with 14 components"
   ],
   "metadata": {
    "collapsed": false
   },
   "id": "88d932ca8052edc3"
  },
  {
   "cell_type": "code",
   "execution_count": 9,
   "outputs": [],
   "source": [
    "pca = PCA(n_components=14)  # Adjust the number of components as needed\n",
    "embeddings_pca = pca.fit_transform(embeddings_data)"
   ],
   "metadata": {
    "collapsed": false,
    "ExecuteTime": {
     "end_time": "2023-12-01T22:40:09.441138515Z",
     "start_time": "2023-12-01T22:40:09.351315117Z"
    }
   },
   "id": "5ed9bb820218da83"
  },
  {
   "cell_type": "markdown",
   "source": [
    "### Scaling"
   ],
   "metadata": {
    "collapsed": false
   },
   "id": "2533f3082e46c7ad"
  },
  {
   "cell_type": "code",
   "execution_count": 10,
   "outputs": [],
   "source": [
    "scaler = MinMaxScaler()\n",
    "embeddings_scaled = scaler.fit_transform(embeddings_pca)"
   ],
   "metadata": {
    "collapsed": false,
    "ExecuteTime": {
     "end_time": "2023-12-01T22:40:14.573391192Z",
     "start_time": "2023-12-01T22:40:14.529877451Z"
    }
   },
   "id": "97704e7e86756524"
  },
  {
   "cell_type": "markdown",
   "source": [
    "### Clustering using Kmeans"
   ],
   "metadata": {
    "collapsed": false
   },
   "id": "d2701cb471eb56eb"
  },
  {
   "cell_type": "code",
   "execution_count": 11,
   "outputs": [
    {
     "name": "stderr",
     "output_type": "stream",
     "text": [
      "/usr/local/lib/python3.9/dist-packages/sklearn/cluster/_kmeans.py:1416: FutureWarning: The default value of `n_init` will change from 10 to 'auto' in 1.4. Set the value of `n_init` explicitly to suppress the warning\n",
      "  super()._check_params_vs_input(X, default_n_init=10)\n"
     ]
    }
   ],
   "source": [
    "kmeans = KMeans(n_clusters=2)  # Positive and Negative\n",
    "clusters = kmeans.fit_predict(embeddings_scaled)"
   ],
   "metadata": {
    "collapsed": false,
    "ExecuteTime": {
     "end_time": "2023-12-01T22:40:18.548031366Z",
     "start_time": "2023-12-01T22:40:18.209639047Z"
    }
   },
   "id": "4d1465988634079e"
  },
  {
   "cell_type": "code",
   "execution_count": 12,
   "outputs": [
    {
     "data": {
      "text/plain": "                                                 text  Cluster_pred\n0   If you decide to eat here, just be aware it is...             1\n1   I've taken a lot of spin classes over the year...             0\n2   Family diner. Had the buffet. Eclectic assortm...             1\n3   Wow!  Yummy, different,  delicious.   Our favo...             1\n4   Cute interior and owner (?) gave us tour of up...             1\n..                                                ...           ...\n95  Had to wait until my third trip to NOLA to act...             0\n96  A GREAT EXPERIENCE!!!!!!!!!  I was a completel...             0\n97  Wow! I never thought my sons phone could be re...             0\n98  Service and management terrible... After messi...             1\n99  I have been to a number of dog friendly hotels...             0\n\n[100 rows x 2 columns]",
      "text/html": "<div>\n<style scoped>\n    .dataframe tbody tr th:only-of-type {\n        vertical-align: middle;\n    }\n\n    .dataframe tbody tr th {\n        vertical-align: top;\n    }\n\n    .dataframe thead th {\n        text-align: right;\n    }\n</style>\n<table border=\"1\" class=\"dataframe\">\n  <thead>\n    <tr style=\"text-align: right;\">\n      <th></th>\n      <th>text</th>\n      <th>Cluster_pred</th>\n    </tr>\n  </thead>\n  <tbody>\n    <tr>\n      <th>0</th>\n      <td>If you decide to eat here, just be aware it is...</td>\n      <td>1</td>\n    </tr>\n    <tr>\n      <th>1</th>\n      <td>I've taken a lot of spin classes over the year...</td>\n      <td>0</td>\n    </tr>\n    <tr>\n      <th>2</th>\n      <td>Family diner. Had the buffet. Eclectic assortm...</td>\n      <td>1</td>\n    </tr>\n    <tr>\n      <th>3</th>\n      <td>Wow!  Yummy, different,  delicious.   Our favo...</td>\n      <td>1</td>\n    </tr>\n    <tr>\n      <th>4</th>\n      <td>Cute interior and owner (?) gave us tour of up...</td>\n      <td>1</td>\n    </tr>\n    <tr>\n      <th>...</th>\n      <td>...</td>\n      <td>...</td>\n    </tr>\n    <tr>\n      <th>95</th>\n      <td>Had to wait until my third trip to NOLA to act...</td>\n      <td>0</td>\n    </tr>\n    <tr>\n      <th>96</th>\n      <td>A GREAT EXPERIENCE!!!!!!!!!  I was a completel...</td>\n      <td>0</td>\n    </tr>\n    <tr>\n      <th>97</th>\n      <td>Wow! I never thought my sons phone could be re...</td>\n      <td>0</td>\n    </tr>\n    <tr>\n      <th>98</th>\n      <td>Service and management terrible... After messi...</td>\n      <td>1</td>\n    </tr>\n    <tr>\n      <th>99</th>\n      <td>I have been to a number of dog friendly hotels...</td>\n      <td>0</td>\n    </tr>\n  </tbody>\n</table>\n<p>100 rows × 2 columns</p>\n</div>"
     },
     "execution_count": 12,
     "metadata": {},
     "output_type": "execute_result"
    }
   ],
   "source": [
    "df2['Cluster_pred'] = clusters\n",
    "# Print the DataFrame with predicted clusters\n",
    "df2[['text', 'Cluster_pred']]"
   ],
   "metadata": {
    "collapsed": false,
    "ExecuteTime": {
     "end_time": "2023-12-01T22:40:20.857605024Z",
     "start_time": "2023-12-01T22:40:20.841555607Z"
    }
   },
   "id": "fa15a0d26455aae4"
  },
  {
   "cell_type": "code",
   "execution_count": 13,
   "outputs": [
    {
     "name": "stdout",
     "output_type": "stream",
     "text": [
      "[1 0]\n"
     ]
    }
   ],
   "source": [
    "print(df2['Cluster_pred'].unique())"
   ],
   "metadata": {
    "collapsed": false,
    "ExecuteTime": {
     "end_time": "2023-12-01T22:40:24.730441208Z",
     "start_time": "2023-12-01T22:40:24.694103355Z"
    }
   },
   "id": "56256995928f5dc4"
  },
  {
   "cell_type": "code",
   "execution_count": 14,
   "outputs": [],
   "source": [
    "def sentiment(stars):  #Ashken\n",
    "    if 0 <= stars <3:\n",
    "        return 0 #negative\n",
    "    elif 3<= stars <= 5:\n",
    "        return 1 #positive\n",
    "\n",
    "df2['sentiment_label'] = df2['stars'].apply(sentiment)"
   ],
   "metadata": {
    "collapsed": false,
    "ExecuteTime": {
     "end_time": "2023-12-01T22:40:27.629385845Z",
     "start_time": "2023-12-01T22:40:27.611385876Z"
    }
   },
   "id": "dd4542a60146d7d8"
  },
  {
   "cell_type": "code",
   "execution_count": 15,
   "outputs": [
    {
     "data": {
      "text/plain": "                 review_id                 user_id             business_id  \\\n0   KU_O5udG6zpxOg-VcAEodg  mh_-eMZ6K5RLWhZyISBhwA  XQfwVwDr-v0ZS3_CbbE5Xw   \n1   BiTunyQ73aT9WBnpR9DZGw  OyoGAe7OKpv6SyGZT5g77Q  7ATYjTIgM3jUlt4UM3IypQ   \n2   saUsX_uimxRlCVr67Z4Jig  8g_iMtfSiwikVnbP2etR0A  YjUWPpI6HXG530lwP-fb2A   \n3   AqPFMleE6RsU23_auESxiA  _7bHUi9Uuf5__HHc_Q8guQ  kxX2SOes4o-D3ZQBkiMRfA   \n4   Sx8TMOWLNuJBWer-0pcmoA  bcjbaE6dDog4jkNY91ncLQ  e4Vwtrqf-wpJfwesgvdgxQ   \n..                     ...                     ...                     ...   \n95  QS7CuOtFLuS3dnwKHRtSYQ  PBnEwGVCBL0N-bET6ZI6kQ  m5-FtgWRd4qA7j0vaOXiXQ   \n96  4PHFo_GRG4FEk1q4X7xQVQ  jbsCBG0A-3wVDjrKar-0Wg  X63jIMRHYBvKKQDuJTRiQQ   \n97  1c6sgLe07HAhipebsQ1wgA  ZRXvbrutBBULaFS6T9NCwA  HnhxO2cpa15AHI1456Pl6Q   \n98  PPgbLBvi34A6m7bKJfTwhw  3TL6HZ1JrKcNTvGDWKlrow  GyC36Pn0Q1-qHnqXys6yFg   \n99  gImS1dtA_TixEouDfp2o4g  xE7AXFF9wVaN6id6OCtH3Q  D5V0Fawd6ODVgqCY8xngsw   \n\n    stars  useful  funny  cool  \\\n0       3       0      0     0   \n1       5       1      0     1   \n2       3       0      0     0   \n3       5       1      0     1   \n4       4       1      0     1   \n..    ...     ...    ...   ...   \n95      5       0      0     0   \n96      5       2      0     1   \n97      5       0      1     0   \n98      1       0      0     0   \n99      4       1      0     2   \n\n                                                 text                 date  \\\n0   If you decide to eat here, just be aware it is...  2018-07-07 22:09:11   \n1   I've taken a lot of spin classes over the year...  2012-01-03 15:28:18   \n2   Family diner. Had the buffet. Eclectic assortm...  2014-02-05 20:30:30   \n3   Wow!  Yummy, different,  delicious.   Our favo...  2015-01-04 00:01:03   \n4   Cute interior and owner (?) gave us tour of up...  2017-01-14 20:54:15   \n..                                                ...                  ...   \n95  Had to wait until my third trip to NOLA to act...  2016-11-10 20:56:13   \n96  A GREAT EXPERIENCE!!!!!!!!!  I was a completel...  2014-10-11 13:55:05   \n97  Wow! I never thought my sons phone could be re...  2015-10-17 00:55:35   \n98  Service and management terrible... After messi...  2013-12-07 13:17:13   \n99  I have been to a number of dog friendly hotels...  2017-01-14 21:05:04   \n\n    Cluster_pred  sentiment_label  \n0              1                1  \n1              0                1  \n2              1                1  \n3              1                1  \n4              1                1  \n..           ...              ...  \n95             0                1  \n96             0                1  \n97             0                1  \n98             1                0  \n99             0                1  \n\n[100 rows x 11 columns]",
      "text/html": "<div>\n<style scoped>\n    .dataframe tbody tr th:only-of-type {\n        vertical-align: middle;\n    }\n\n    .dataframe tbody tr th {\n        vertical-align: top;\n    }\n\n    .dataframe thead th {\n        text-align: right;\n    }\n</style>\n<table border=\"1\" class=\"dataframe\">\n  <thead>\n    <tr style=\"text-align: right;\">\n      <th></th>\n      <th>review_id</th>\n      <th>user_id</th>\n      <th>business_id</th>\n      <th>stars</th>\n      <th>useful</th>\n      <th>funny</th>\n      <th>cool</th>\n      <th>text</th>\n      <th>date</th>\n      <th>Cluster_pred</th>\n      <th>sentiment_label</th>\n    </tr>\n  </thead>\n  <tbody>\n    <tr>\n      <th>0</th>\n      <td>KU_O5udG6zpxOg-VcAEodg</td>\n      <td>mh_-eMZ6K5RLWhZyISBhwA</td>\n      <td>XQfwVwDr-v0ZS3_CbbE5Xw</td>\n      <td>3</td>\n      <td>0</td>\n      <td>0</td>\n      <td>0</td>\n      <td>If you decide to eat here, just be aware it is...</td>\n      <td>2018-07-07 22:09:11</td>\n      <td>1</td>\n      <td>1</td>\n    </tr>\n    <tr>\n      <th>1</th>\n      <td>BiTunyQ73aT9WBnpR9DZGw</td>\n      <td>OyoGAe7OKpv6SyGZT5g77Q</td>\n      <td>7ATYjTIgM3jUlt4UM3IypQ</td>\n      <td>5</td>\n      <td>1</td>\n      <td>0</td>\n      <td>1</td>\n      <td>I've taken a lot of spin classes over the year...</td>\n      <td>2012-01-03 15:28:18</td>\n      <td>0</td>\n      <td>1</td>\n    </tr>\n    <tr>\n      <th>2</th>\n      <td>saUsX_uimxRlCVr67Z4Jig</td>\n      <td>8g_iMtfSiwikVnbP2etR0A</td>\n      <td>YjUWPpI6HXG530lwP-fb2A</td>\n      <td>3</td>\n      <td>0</td>\n      <td>0</td>\n      <td>0</td>\n      <td>Family diner. Had the buffet. Eclectic assortm...</td>\n      <td>2014-02-05 20:30:30</td>\n      <td>1</td>\n      <td>1</td>\n    </tr>\n    <tr>\n      <th>3</th>\n      <td>AqPFMleE6RsU23_auESxiA</td>\n      <td>_7bHUi9Uuf5__HHc_Q8guQ</td>\n      <td>kxX2SOes4o-D3ZQBkiMRfA</td>\n      <td>5</td>\n      <td>1</td>\n      <td>0</td>\n      <td>1</td>\n      <td>Wow!  Yummy, different,  delicious.   Our favo...</td>\n      <td>2015-01-04 00:01:03</td>\n      <td>1</td>\n      <td>1</td>\n    </tr>\n    <tr>\n      <th>4</th>\n      <td>Sx8TMOWLNuJBWer-0pcmoA</td>\n      <td>bcjbaE6dDog4jkNY91ncLQ</td>\n      <td>e4Vwtrqf-wpJfwesgvdgxQ</td>\n      <td>4</td>\n      <td>1</td>\n      <td>0</td>\n      <td>1</td>\n      <td>Cute interior and owner (?) gave us tour of up...</td>\n      <td>2017-01-14 20:54:15</td>\n      <td>1</td>\n      <td>1</td>\n    </tr>\n    <tr>\n      <th>...</th>\n      <td>...</td>\n      <td>...</td>\n      <td>...</td>\n      <td>...</td>\n      <td>...</td>\n      <td>...</td>\n      <td>...</td>\n      <td>...</td>\n      <td>...</td>\n      <td>...</td>\n      <td>...</td>\n    </tr>\n    <tr>\n      <th>95</th>\n      <td>QS7CuOtFLuS3dnwKHRtSYQ</td>\n      <td>PBnEwGVCBL0N-bET6ZI6kQ</td>\n      <td>m5-FtgWRd4qA7j0vaOXiXQ</td>\n      <td>5</td>\n      <td>0</td>\n      <td>0</td>\n      <td>0</td>\n      <td>Had to wait until my third trip to NOLA to act...</td>\n      <td>2016-11-10 20:56:13</td>\n      <td>0</td>\n      <td>1</td>\n    </tr>\n    <tr>\n      <th>96</th>\n      <td>4PHFo_GRG4FEk1q4X7xQVQ</td>\n      <td>jbsCBG0A-3wVDjrKar-0Wg</td>\n      <td>X63jIMRHYBvKKQDuJTRiQQ</td>\n      <td>5</td>\n      <td>2</td>\n      <td>0</td>\n      <td>1</td>\n      <td>A GREAT EXPERIENCE!!!!!!!!!  I was a completel...</td>\n      <td>2014-10-11 13:55:05</td>\n      <td>0</td>\n      <td>1</td>\n    </tr>\n    <tr>\n      <th>97</th>\n      <td>1c6sgLe07HAhipebsQ1wgA</td>\n      <td>ZRXvbrutBBULaFS6T9NCwA</td>\n      <td>HnhxO2cpa15AHI1456Pl6Q</td>\n      <td>5</td>\n      <td>0</td>\n      <td>1</td>\n      <td>0</td>\n      <td>Wow! I never thought my sons phone could be re...</td>\n      <td>2015-10-17 00:55:35</td>\n      <td>0</td>\n      <td>1</td>\n    </tr>\n    <tr>\n      <th>98</th>\n      <td>PPgbLBvi34A6m7bKJfTwhw</td>\n      <td>3TL6HZ1JrKcNTvGDWKlrow</td>\n      <td>GyC36Pn0Q1-qHnqXys6yFg</td>\n      <td>1</td>\n      <td>0</td>\n      <td>0</td>\n      <td>0</td>\n      <td>Service and management terrible... After messi...</td>\n      <td>2013-12-07 13:17:13</td>\n      <td>1</td>\n      <td>0</td>\n    </tr>\n    <tr>\n      <th>99</th>\n      <td>gImS1dtA_TixEouDfp2o4g</td>\n      <td>xE7AXFF9wVaN6id6OCtH3Q</td>\n      <td>D5V0Fawd6ODVgqCY8xngsw</td>\n      <td>4</td>\n      <td>1</td>\n      <td>0</td>\n      <td>2</td>\n      <td>I have been to a number of dog friendly hotels...</td>\n      <td>2017-01-14 21:05:04</td>\n      <td>0</td>\n      <td>1</td>\n    </tr>\n  </tbody>\n</table>\n<p>100 rows × 11 columns</p>\n</div>"
     },
     "execution_count": 15,
     "metadata": {},
     "output_type": "execute_result"
    }
   ],
   "source": [
    "df2"
   ],
   "metadata": {
    "collapsed": false,
    "ExecuteTime": {
     "end_time": "2023-12-01T22:40:28.464913061Z",
     "start_time": "2023-12-01T22:40:28.428279802Z"
    }
   },
   "id": "b7503828e8e0835a"
  },
  {
   "cell_type": "markdown",
   "metadata": {},
   "source": [
    "### Comparison with labelled set"
   ],
   "id": "1deecd4647849e6f"
  },
  {
   "cell_type": "code",
   "execution_count": 16,
   "outputs": [
    {
     "name": "stdout",
     "output_type": "stream",
     "text": [
      "Accuracy: 51.00%\n"
     ]
    }
   ],
   "source": [
    "true_labels = df2['sentiment_label'].tolist()\n",
    "\n",
    "# encoding\n",
    "label_encoder = LabelEncoder()\n",
    "encoded1 = label_encoder.fit_transform(true_labels)\n",
    "\n",
    "# Calculate accuracy\n",
    "accuracy = accuracy_score(encoded1, clusters)\n",
    "print(f'Accuracy: {accuracy * 100:.2f}%')"
   ],
   "metadata": {
    "collapsed": false,
    "ExecuteTime": {
     "end_time": "2023-12-01T22:40:31.656497724Z",
     "start_time": "2023-12-01T22:40:31.646218330Z"
    }
   },
   "id": "7dc06b36467afbc"
  },
  {
   "cell_type": "code",
   "execution_count": 17,
   "outputs": [
    {
     "data": {
      "text/plain": "<Figure size 800x600 with 2 Axes>",
      "image/png": "[encoded data removed]"
     },
     "metadata": {},
     "output_type": "display_data"
    }
   ],
   "source": [
    "# Plotting a confusion matrix\n",
    "conf_matrix = confusion_matrix(encoded1, clusters)\n",
    "plt.figure(figsize=(8, 6))\n",
    "sns.heatmap(conf_matrix, annot=True, fmt=\"d\", cmap=\"Blues\", xticklabels=['Negative', 'Positive'], yticklabels=['Negative', 'Positive'])\n",
    "plt.title('Confusion Matrix')\n",
    "plt.xlabel('Predicted')\n",
    "plt.ylabel('Actual')\n",
    "plt.show()"
   ],
   "metadata": {
    "collapsed": false,
    "ExecuteTime": {
     "end_time": "2023-12-01T22:40:35.061148967Z",
     "start_time": "2023-12-01T22:40:34.934835048Z"
    }
   },
   "id": "120a53a4bfd011ac"
  },
  {
   "cell_type": "code",
   "execution_count": 18,
   "outputs": [
    {
     "name": "stdout",
     "output_type": "stream",
     "text": [
      "Report:\n",
      "               precision    recall  f1-score   support\n",
      "\n",
      "    Negative       0.09      0.33      0.14        12\n",
      "    Positive       0.85      0.53      0.66        88\n",
      "\n",
      "    accuracy                           0.51       100\n",
      "   macro avg       0.47      0.43      0.40       100\n",
      "weighted avg       0.76      0.51      0.60       100\n"
     ]
    }
   ],
   "source": [
    "# Printing a classification report\n",
    "report = classification_report(encoded1, clusters, target_names=['Negative', 'Positive'])\n",
    "print(\"Report:\\n\", report)"
   ],
   "metadata": {
    "collapsed": false,
    "ExecuteTime": {
     "end_time": "2023-12-01T22:40:37.830399720Z",
     "start_time": "2023-12-01T22:40:37.814003295Z"
    }
   },
   "id": "d34c22671d02725a"
  },
  {
   "cell_type": "code",
   "execution_count": null,
   "outputs": [],
   "source": [],
   "metadata": {
    "collapsed": false
   },
   "id": "5e33da6e2cace718"
  }
 ],
 "metadata": {
  "kernelspec": {
   "display_name": "Python 3",
   "language": "python",
   "name": "python3"
  },
  "language_info": {
   "codemirror_mode": {
    "name": "ipython",
    "version": 2
   },
   "file_extension": ".py",
   "mimetype": "text/x-python",
   "name": "python",
   "nbconvert_exporter": "python",
   "pygments_lexer": "ipython2",
   "version": "2.7.6"
  }
 },
 "nbformat": 4,
 "nbformat_minor": 5
}
