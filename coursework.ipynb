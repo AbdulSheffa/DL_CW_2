{
 "cells": [
  {
   "cell_type": "code",
   "execution_count": null,
   "outputs": [],
   "source": [
    "import matplotlib.pyplot as plt\n",
    "import json\n",
    "import pandas as pd\n",
    "import seaborn as sns\n",
    "import re\n",
    "from transformers import BertTokenizer, BertForSequenceClassification\n",
    "\n",
    "json_file = 'gggg.json'\n",
    "csv_file = 'data1.csv'\n",
    "\n",
    "# Load JSON data\n",
    "with open(json_file, 'r') as file:\n",
    "    data = pd.read_json(file)\n",
    "\n",
    "# Save as CSV\n",
    "data.to_csv(csv_file, index=False)\n",
    "\n",
    "# Step 2: Read CSV into DataFrame\n",
    "df = pd.read_csv(csv_file)"
   ],
   "metadata": {
    "collapsed": false
   },
   "id": "50b6d076706c93cd"
  },
  {
   "cell_type": "code",
   "execution_count": null,
   "outputs": [],
   "source": [
    "df"
   ],
   "metadata": {
    "collapsed": false
   },
   "id": "f46aef73a3182928"
  },
  {
   "cell_type": "code",
   "execution_count": null,
   "outputs": [],
   "source": [
    "### Data Visualization\n",
    "plt.figure(figsize=(8, 6))\n",
    "plt.scatter(df['stars'].value_counts().sort_index().index, df['stars'].value_counts().sort_index(), color='purple')\n",
    "plt.title('Review Ratings')\n",
    "plt.xlabel('Stars')\n",
    "plt.ylabel('Count')\n",
    "plt.show()"
   ],
   "metadata": {
    "collapsed": false
   },
   "id": "f70b30861e00a4ac"
  },
  {
   "cell_type": "code",
   "execution_count": null,
   "outputs": [],
   "source": [
    "# Plot the distribution of review lengths\n",
    "plt.figure(figsize=(8, 6))\n",
    "df['review_length'] = df['text'].apply(len)\n",
    "df['review_length'].hist(bins=50, color='red')\n",
    "plt.title('Review Lengths')\n",
    "plt.xlabel('Review Length')\n",
    "plt.ylabel('Amount')\n",
    "plt.show()"
   ],
   "metadata": {
    "collapsed": false
   },
   "id": "initial_id"
  },
  {
   "cell_type": "code",
   "execution_count": null,
   "outputs": [],
   "source": [
    "df['date'] = pd.to_datetime(df['date'])\n",
    "\n",
    "# Plot the time distribution of reviews\n",
    "plt.figure(figsize=(12, 6))\n",
    "df.set_index('date').resample('M').size().plot()\n",
    "plt.title('Monthly Reviews')\n",
    "plt.xlabel('Date')\n",
    "plt.ylabel('No. of Reviews')\n",
    "plt.show()\n",
    "matrix = df[['stars', 'useful', 'funny', 'cool', 'review_length']].corr()\n"
   ],
   "metadata": {
    "collapsed": false
   },
   "id": "56c63405a6148b1b"
  },
  {
   "cell_type": "code",
   "execution_count": null,
   "outputs": [],
   "source": [
    "# Plot the correlation heatmap\n",
    "plt.figure(figsize=(10, 8))\n",
    "sns.heatmap(matrix, annot=True, cmap='coolwarm', fmt='.2f')\n",
    "plt.title('Heatmap')\n",
    "plt.show()"
   ],
   "metadata": {
    "collapsed": false
   },
   "id": "dff61dffb6be7e22"
  }
 ],
 "metadata": {
  "kernelspec": {
   "display_name": "Python 3",
   "language": "python",
   "name": "python3"
  },
  "language_info": {
   "codemirror_mode": {
    "name": "ipython",
    "version": 2
   },
   "file_extension": ".py",
   "mimetype": "text/x-python",
   "name": "python",
   "nbconvert_exporter": "python",
   "pygments_lexer": "ipython2",
   "version": "2.7.6"
  }
 },
 "nbformat": 4,
 "nbformat_minor": 5
}
